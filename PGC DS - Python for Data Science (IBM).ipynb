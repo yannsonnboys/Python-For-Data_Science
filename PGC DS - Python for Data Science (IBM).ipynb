{
 "cells": [
  {
   "cell_type": "markdown",
   "id": "cc475d64-273e-4f2f-8f9f-5162dc50b482",
   "metadata": {},
   "source": [
    "# PGC DS - Python for Data Science (IBM)"
   ]
  },
  {
   "cell_type": "markdown",
   "id": "04df6b24-0fe1-4d13-bdcd-c4158c8782b8",
   "metadata": {},
   "source": [
    "## Module 1 - Python Basics"
   ]
  },
  {
   "cell_type": "markdown",
   "id": "cda2d28f-c006-421f-981e-a1f78c6e3e49",
   "metadata": {},
   "source": [
    "#### Your First Programm"
   ]
  },
  {
   "cell_type": "code",
   "execution_count": 21,
   "id": "fa96e844-5d1e-4852-905b-525274fab46b",
   "metadata": {},
   "outputs": [
    {
     "name": "stdout",
     "output_type": "stream",
     "text": [
      "hello World!\n"
     ]
    }
   ],
   "source": [
    "print(\"hello World!\")"
   ]
  },
  {
   "cell_type": "code",
   "execution_count": 23,
   "id": "3571fb2d-feae-4d79-8d4e-467b2b721034",
   "metadata": {},
   "outputs": [
    {
     "name": "stdout",
     "output_type": "stream",
     "text": [
      "Hello\n",
      "World\n"
     ]
    }
   ],
   "source": [
    "print(\"Hello\\nWorld\")"
   ]
  },
  {
   "cell_type": "code",
   "execution_count": 27,
   "id": "3b25cd8c-995b-480b-9241-bc9f612dba26",
   "metadata": {},
   "outputs": [
    {
     "data": {
      "text/plain": [
       "1"
      ]
     },
     "execution_count": 27,
     "metadata": {},
     "output_type": "execute_result"
    }
   ],
   "source": [
    "int(1.0)"
   ]
  },
  {
   "cell_type": "code",
   "execution_count": 25,
   "id": "a6150d6a-97fa-4ebb-87ab-74a8f690df70",
   "metadata": {},
   "outputs": [
    {
     "data": {
      "text/plain": [
       "True"
      ]
     },
     "execution_count": 25,
     "metadata": {},
     "output_type": "execute_result"
    }
   ],
   "source": [
    "bool(1)"
   ]
  },
  {
   "cell_type": "markdown",
   "id": "784b9f74-50cb-4fc3-b054-fae52d8694d4",
   "metadata": {},
   "source": [
    "#### Expressions and Variables "
   ]
  },
  {
   "cell_type": "code",
   "execution_count": 31,
   "id": "8f1ddcb1-3006-430d-97a2-baac281f80b0",
   "metadata": {},
   "outputs": [
    {
     "data": {
      "text/plain": [
       "9"
      ]
     },
     "execution_count": 31,
     "metadata": {},
     "output_type": "execute_result"
    }
   ],
   "source": [
    "5+4"
   ]
  },
  {
   "cell_type": "code",
   "execution_count": 35,
   "id": "b5d0fcac-df15-42c9-9232-e09517925c06",
   "metadata": {},
   "outputs": [
    {
     "data": {
      "text/plain": [
       "2"
      ]
     },
     "execution_count": 35,
     "metadata": {},
     "output_type": "execute_result"
    }
   ],
   "source": [
    "4-2"
   ]
  },
  {
   "cell_type": "code",
   "execution_count": 37,
   "id": "e3880429-764c-4d6e-911f-b5ad7ab579df",
   "metadata": {},
   "outputs": [
    {
     "data": {
      "text/plain": [
       "3.0"
      ]
     },
     "execution_count": 37,
     "metadata": {},
     "output_type": "execute_result"
    }
   ],
   "source": [
    "6/2"
   ]
  },
  {
   "cell_type": "code",
   "execution_count": 39,
   "id": "1b79e93b-47f2-467a-8da6-80192bde9571",
   "metadata": {},
   "outputs": [
    {
     "data": {
      "text/plain": [
       "3.75"
      ]
     },
     "execution_count": 39,
     "metadata": {},
     "output_type": "execute_result"
    }
   ],
   "source": [
    "15/4"
   ]
  },
  {
   "cell_type": "code",
   "execution_count": 41,
   "id": "fe6b1a96-8d41-4ac7-818c-7837df3e44a2",
   "metadata": {},
   "outputs": [
    {
     "data": {
      "text/plain": [
       "3"
      ]
     },
     "execution_count": 41,
     "metadata": {},
     "output_type": "execute_result"
    }
   ],
   "source": [
    "15//4"
   ]
  },
  {
   "cell_type": "code",
   "execution_count": 43,
   "id": "129e3665-5365-4ad6-8a5e-442f36edcfcb",
   "metadata": {},
   "outputs": [
    {
     "data": {
      "text/plain": [
       "12"
      ]
     },
     "execution_count": 43,
     "metadata": {},
     "output_type": "execute_result"
    }
   ],
   "source": [
    "3*4"
   ]
  },
  {
   "cell_type": "code",
   "execution_count": 45,
   "id": "253f5d28-495d-4a2a-adf3-928e0ac7a77c",
   "metadata": {},
   "outputs": [
    {
     "data": {
      "text/plain": [
       "42"
      ]
     },
     "execution_count": 45,
     "metadata": {},
     "output_type": "execute_result"
    }
   ],
   "source": [
    "2*6+30"
   ]
  },
  {
   "cell_type": "code",
   "execution_count": 47,
   "id": "a833ddc4-9c52-4f9c-80ec-ac9c08bf26fe",
   "metadata": {},
   "outputs": [
    {
     "data": {
      "text/plain": [
       "42"
      ]
     },
     "execution_count": 47,
     "metadata": {},
     "output_type": "execute_result"
    }
   ],
   "source": [
    "30+2*6"
   ]
  },
  {
   "cell_type": "code",
   "execution_count": 51,
   "id": "e8248929-f560-456f-b367-a40c9599205f",
   "metadata": {},
   "outputs": [],
   "source": [
    "x = 2\n",
    "y = 4\n",
    "\n",
    "z = x+y"
   ]
  },
  {
   "cell_type": "code",
   "execution_count": 53,
   "id": "751bb059-9943-48a1-a2b0-73f1691da3b9",
   "metadata": {},
   "outputs": [
    {
     "data": {
      "text/plain": [
       "6"
      ]
     },
     "execution_count": 53,
     "metadata": {},
     "output_type": "execute_result"
    }
   ],
   "source": [
    "z"
   ]
  },
  {
   "cell_type": "markdown",
   "id": "cb7ad71d-2991-4443-a762-ec90690b58a6",
   "metadata": {},
   "source": [
    "#### String Operations"
   ]
  },
  {
   "cell_type": "code",
   "execution_count": 56,
   "id": "86eeac72-3051-48aa-97eb-410e1d29786f",
   "metadata": {},
   "outputs": [
    {
     "data": {
      "text/plain": [
       "'Michael Jackson is the best'"
      ]
     },
     "execution_count": 56,
     "metadata": {},
     "output_type": "execute_result"
    }
   ],
   "source": [
    "A = \"Michael Jackson is the best\"\n",
    "A"
   ]
  },
  {
   "cell_type": "code",
   "execution_count": 58,
   "id": "14afa6f2-8d46-4690-bcee-df388e704418",
   "metadata": {},
   "outputs": [
    {
     "name": "stdout",
     "output_type": "stream",
     "text": [
      "Michael Jackson is the best\n"
     ]
    }
   ],
   "source": [
    "print(A)"
   ]
  },
  {
   "cell_type": "code",
   "execution_count": 60,
   "id": "de2c425b-6ba6-44c8-b877-591647b883b4",
   "metadata": {},
   "outputs": [
    {
     "data": {
      "text/plain": [
       "'MICHAEL JACKSON IS THE BEST'"
      ]
     },
     "execution_count": 60,
     "metadata": {},
     "output_type": "execute_result"
    }
   ],
   "source": [
    "string = A.upper()\n",
    "string"
   ]
  },
  {
   "cell_type": "code",
   "execution_count": 62,
   "id": "00e47b5a-7c13-4fb9-b308-7bf1e60b948d",
   "metadata": {},
   "outputs": [
    {
     "name": "stdout",
     "output_type": "stream",
     "text": [
      "MICHAEL JACKSON IS THE BEST\n"
     ]
    }
   ],
   "source": [
    "print(string)"
   ]
  },
  {
   "cell_type": "code",
   "execution_count": 66,
   "id": "9b9dbfd1-86f6-4c22-8704-8018f6693b20",
   "metadata": {},
   "outputs": [
    {
     "data": {
      "text/plain": [
       "'Janet Jackson is the best'"
      ]
     },
     "execution_count": 66,
     "metadata": {},
     "output_type": "execute_result"
    }
   ],
   "source": [
    "# Replace method\n",
    "string_replace = A.replace(\"Michael\", \"Janet\")\n",
    "string_replace"
   ]
  },
  {
   "cell_type": "code",
   "execution_count": 68,
   "id": "9c5b87f2-76a9-44ee-9fa3-04f02668c473",
   "metadata": {},
   "outputs": [
    {
     "name": "stdout",
     "output_type": "stream",
     "text": [
      "Janet Jackson is the best\n"
     ]
    }
   ],
   "source": [
    "print(string_replace)"
   ]
  },
  {
   "cell_type": "code",
   "execution_count": 74,
   "id": "b5662517-ce52-400c-a014-46ad291f606b",
   "metadata": {},
   "outputs": [
    {
     "data": {
      "text/plain": [
       "2"
      ]
     },
     "execution_count": 74,
     "metadata": {},
     "output_type": "execute_result"
    }
   ],
   "source": [
    "## Find method\n",
    "string_replace.find('net')"
   ]
  },
  {
   "cell_type": "code",
   "execution_count": 72,
   "id": "7103dc86-b642-4863-8e9f-87ac3a96e899",
   "metadata": {},
   "outputs": [
    {
     "data": {
      "text/plain": [
       "14"
      ]
     },
     "execution_count": 72,
     "metadata": {},
     "output_type": "execute_result"
    }
   ],
   "source": [
    "string_replace.find('is')"
   ]
  },
  {
   "cell_type": "code",
   "execution_count": 76,
   "id": "f1abc7f8-3e6c-40fb-afd9-cb88761522dd",
   "metadata": {},
   "outputs": [
    {
     "data": {
      "text/plain": [
       "21"
      ]
     },
     "execution_count": 76,
     "metadata": {},
     "output_type": "execute_result"
    }
   ],
   "source": [
    "string_replace.find('be')"
   ]
  },
  {
   "cell_type": "code",
   "execution_count": 78,
   "id": "9535ad5f-fe4f-46c5-a63f-52aeaa73afda",
   "metadata": {},
   "outputs": [
    {
     "data": {
      "text/plain": [
       "-1"
      ]
     },
     "execution_count": 78,
     "metadata": {},
     "output_type": "execute_result"
    }
   ],
   "source": [
    "string_replace.find('&*D')"
   ]
  },
  {
   "cell_type": "code",
   "execution_count": 80,
   "id": "0dbb3d65-ea50-4619-8c3a-66ac95a6743f",
   "metadata": {},
   "outputs": [],
   "source": [
    "# Example\n",
    "Numbers = \"0123456\""
   ]
  },
  {
   "cell_type": "code",
   "execution_count": 82,
   "id": "944a427b-4edf-4fc3-942b-b84739326a8c",
   "metadata": {},
   "outputs": [
    {
     "data": {
      "text/plain": [
       "'036'"
      ]
     },
     "execution_count": 82,
     "metadata": {},
     "output_type": "execute_result"
    }
   ],
   "source": [
    "Numbers[::3]"
   ]
  },
  {
   "cell_type": "code",
   "execution_count": 84,
   "id": "cb3977f1-429a-408c-a1bf-176e9ee631cd",
   "metadata": {},
   "outputs": [
    {
     "data": {
      "text/plain": [
       "'0246'"
      ]
     },
     "execution_count": 84,
     "metadata": {},
     "output_type": "execute_result"
    }
   ],
   "source": [
    "Numbers[::2]"
   ]
  },
  {
   "cell_type": "code",
   "execution_count": 86,
   "id": "9b38ac82-f30e-4c69-a8cf-052ac3c17401",
   "metadata": {},
   "outputs": [
    {
     "data": {
      "text/plain": [
       "'06'"
      ]
     },
     "execution_count": 86,
     "metadata": {},
     "output_type": "execute_result"
    }
   ],
   "source": [
    "Numbers[::6]"
   ]
  },
  {
   "cell_type": "code",
   "execution_count": 88,
   "id": "a9d327c8-5518-4914-aa74-0e183d8a62b9",
   "metadata": {},
   "outputs": [
    {
     "data": {
      "text/plain": [
       "1"
      ]
     },
     "execution_count": 88,
     "metadata": {},
     "output_type": "execute_result"
    }
   ],
   "source": [
    "\"0123456\".find('1')"
   ]
  },
  {
   "cell_type": "code",
   "execution_count": 90,
   "id": "efb55a26-1980-42b7-a50d-8c9d2b95b5d7",
   "metadata": {},
   "outputs": [
    {
     "name": "stdout",
     "output_type": "stream",
     "text": [
      "Li\n"
     ]
    }
   ],
   "source": [
    "name = 'Lizz'\n",
    "print(name[0:2])"
   ]
  },
  {
   "cell_type": "code",
   "execution_count": 94,
   "id": "554def15-a587-49fc-b0b4-59833254e278",
   "metadata": {},
   "outputs": [
    {
     "name": "stdout",
     "output_type": "stream",
     "text": [
      "0246\n"
     ]
    }
   ],
   "source": [
    "var = '01234567'\n",
    "\n",
    "print(var[::2])"
   ]
  },
  {
   "cell_type": "code",
   "execution_count": 96,
   "id": "9b54d79a-5321-4e5b-a499-8747baace4ea",
   "metadata": {},
   "outputs": [
    {
     "data": {
      "text/plain": [
       "'12'"
      ]
     },
     "execution_count": 96,
     "metadata": {},
     "output_type": "execute_result"
    }
   ],
   "source": [
    "'1'+'2'"
   ]
  },
  {
   "cell_type": "code",
   "execution_count": 98,
   "id": "3065bb35-b3cb-44de-b91f-cff11e79c29d",
   "metadata": {},
   "outputs": [
    {
     "data": {
      "text/plain": [
       "'HELLO'"
      ]
     },
     "execution_count": 98,
     "metadata": {},
     "output_type": "execute_result"
    }
   ],
   "source": [
    "myvar = 'hello'\n",
    "myvar.upper()"
   ]
  },
  {
   "cell_type": "markdown",
   "id": "f199dbfb-5a97-4b47-bab7-e38d52ccce31",
   "metadata": {},
   "source": [
    "## Module 2 - Python Data Structures\n"
   ]
  },
  {
   "cell_type": "markdown",
   "id": "7a45e28d-aaa7-402b-b8bf-39cf784d1fca",
   "metadata": {},
   "source": [
    "In this lesson you will learn about:\n",
    "\n",
    "- Lists and Tuples \n",
    "- Sets\n",
    "- Dictionaries "
   ]
  },
  {
   "cell_type": "code",
   "execution_count": null,
   "id": "7edd6789-2244-46ea-b889-1923aa4da65f",
   "metadata": {},
   "outputs": [],
   "source": []
  }
 ],
 "metadata": {
  "kernelspec": {
   "display_name": "Python 3 (ipykernel)",
   "language": "python",
   "name": "python3"
  },
  "language_info": {
   "codemirror_mode": {
    "name": "ipython",
    "version": 3
   },
   "file_extension": ".py",
   "mimetype": "text/x-python",
   "name": "python",
   "nbconvert_exporter": "python",
   "pygments_lexer": "ipython3",
   "version": "3.12.4"
  }
 },
 "nbformat": 4,
 "nbformat_minor": 5
}
