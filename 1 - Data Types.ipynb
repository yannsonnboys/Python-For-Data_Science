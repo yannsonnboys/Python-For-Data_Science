{
 "cells": [
  {
   "cell_type": "markdown",
   "id": "902a06f8-1c0e-4be2-9ef8-5bedf903c190",
   "metadata": {
    "jp-MarkdownHeadingCollapsed": true
   },
   "source": [
    "### Data Types"
   ]
  },
  {
   "cell_type": "markdown",
   "id": "e192be5b-6e03-44a9-bf81-163f9a2f9c07",
   "metadata": {},
   "source": [
    "## Integers"
   ]
  },
  {
   "cell_type": "code",
   "execution_count": 696,
   "id": "7df3d7d3-a1c7-4b17-bff1-af65c53aa4f0",
   "metadata": {},
   "outputs": [],
   "source": [
    "x = 45"
   ]
  },
  {
   "cell_type": "code",
   "execution_count": 698,
   "id": "9bb57b3d-98a7-4e04-ab93-eb77dd8a6ca4",
   "metadata": {},
   "outputs": [
    {
     "data": {
      "text/plain": [
       "int"
      ]
     },
     "execution_count": 698,
     "metadata": {},
     "output_type": "execute_result"
    }
   ],
   "source": [
    "type(x)"
   ]
  },
  {
   "cell_type": "code",
   "execution_count": 538,
   "id": "d60f5dbf-4c98-480b-bdf4-460630373580",
   "metadata": {},
   "outputs": [
    {
     "data": {
      "text/plain": [
       "float"
      ]
     },
     "execution_count": 538,
     "metadata": {},
     "output_type": "execute_result"
    }
   ],
   "source": [
    "type(y)"
   ]
  },
  {
   "cell_type": "code",
   "execution_count": 539,
   "id": "8e26fd85-ec62-426c-88c1-dcf584cc6200",
   "metadata": {},
   "outputs": [
    {
     "name": "stdout",
     "output_type": "stream",
     "text": [
      "12.5\n"
     ]
    }
   ],
   "source": [
    "print(y)"
   ]
  },
  {
   "cell_type": "markdown",
   "id": "e466c64a-07ed-46c8-913e-92be27a6a06d",
   "metadata": {},
   "source": [
    "## String"
   ]
  },
  {
   "cell_type": "code",
   "execution_count": 541,
   "id": "7499246a-16b8-4ef8-8ccc-3719c2ae3e1a",
   "metadata": {},
   "outputs": [],
   "source": [
    "w = 'iPhone 16'"
   ]
  },
  {
   "cell_type": "code",
   "execution_count": 542,
   "id": "ac082fec-e0de-4a90-b0a3-3129df0dc383",
   "metadata": {},
   "outputs": [
    {
     "data": {
      "text/plain": [
       "str"
      ]
     },
     "execution_count": 542,
     "metadata": {},
     "output_type": "execute_result"
    }
   ],
   "source": [
    "type(w)"
   ]
  },
  {
   "cell_type": "code",
   "execution_count": 543,
   "id": "5a259b81-1ec8-4f02-b06a-566e1e33a3d7",
   "metadata": {},
   "outputs": [
    {
     "name": "stdout",
     "output_type": "stream",
     "text": [
      "iPhone 16\n"
     ]
    }
   ],
   "source": [
    "print(w)"
   ]
  },
  {
   "cell_type": "code",
   "execution_count": 544,
   "id": "3d0f8646-fb95-422e-85c2-fffd55831c1b",
   "metadata": {},
   "outputs": [],
   "source": [
    "## Boolean"
   ]
  },
  {
   "cell_type": "code",
   "execution_count": 545,
   "id": "2c62ae87-fd35-4e6d-9987-961b26f9206d",
   "metadata": {},
   "outputs": [],
   "source": [
    "q = True"
   ]
  },
  {
   "cell_type": "code",
   "execution_count": 546,
   "id": "07c0fde5-ce18-41aa-b3f5-88223f38ab01",
   "metadata": {},
   "outputs": [
    {
     "data": {
      "text/plain": [
       "bool"
      ]
     },
     "execution_count": 546,
     "metadata": {},
     "output_type": "execute_result"
    }
   ],
   "source": [
    "type(q)"
   ]
  },
  {
   "cell_type": "code",
   "execution_count": 547,
   "id": "c8891a55-16ae-4804-935f-18e9c5cd671a",
   "metadata": {},
   "outputs": [],
   "source": [
    "t = False"
   ]
  },
  {
   "cell_type": "code",
   "execution_count": 548,
   "id": "c274ef52-761f-4b01-8294-25d72868b22c",
   "metadata": {},
   "outputs": [
    {
     "data": {
      "text/plain": [
       "bool"
      ]
     },
     "execution_count": 548,
     "metadata": {},
     "output_type": "execute_result"
    }
   ],
   "source": [
    "type(t)"
   ]
  },
  {
   "cell_type": "code",
   "execution_count": 549,
   "id": "97803dbf-4e5e-478b-8c8e-d2e0db655b75",
   "metadata": {},
   "outputs": [
    {
     "name": "stdout",
     "output_type": "stream",
     "text": [
      "True\n",
      "False\n"
     ]
    }
   ],
   "source": [
    "print(q)\n",
    "print(t)"
   ]
  },
  {
   "cell_type": "code",
   "execution_count": 550,
   "id": "2a275fa1-da80-429d-853b-59f78ffd2e8c",
   "metadata": {},
   "outputs": [],
   "source": [
    "s1 = 'Apple'\n",
    "s2 = 'apple'"
   ]
  },
  {
   "cell_type": "code",
   "execution_count": 551,
   "id": "cbd7bbd8-d488-4abc-83db-fdc733c606b2",
   "metadata": {},
   "outputs": [
    {
     "name": "stdout",
     "output_type": "stream",
     "text": [
      "Apple\n"
     ]
    }
   ],
   "source": [
    "print(s1)"
   ]
  },
  {
   "cell_type": "code",
   "execution_count": 552,
   "id": "eb41f297-66e5-4e9e-83b7-3cb872b222b0",
   "metadata": {},
   "outputs": [
    {
     "name": "stdout",
     "output_type": "stream",
     "text": [
      "apple\n"
     ]
    }
   ],
   "source": [
    "print(s2)"
   ]
  },
  {
   "cell_type": "code",
   "execution_count": 553,
   "id": "efd4b451-51a5-4334-ac4e-e7bdfc22e1d6",
   "metadata": {},
   "outputs": [
    {
     "data": {
      "text/plain": [
       "False"
      ]
     },
     "execution_count": 553,
     "metadata": {},
     "output_type": "execute_result"
    }
   ],
   "source": [
    "s1==s2"
   ]
  },
  {
   "cell_type": "code",
   "execution_count": 554,
   "id": "3986a8b8-030b-4e67-a10e-bfc79292a267",
   "metadata": {},
   "outputs": [],
   "source": [
    "s3 = 'apple'"
   ]
  },
  {
   "cell_type": "code",
   "execution_count": 555,
   "id": "e0d03cc3-cf8e-41fd-a2a3-dfbe9450ac26",
   "metadata": {},
   "outputs": [
    {
     "data": {
      "text/plain": [
       "False"
      ]
     },
     "execution_count": 555,
     "metadata": {},
     "output_type": "execute_result"
    }
   ],
   "source": [
    "s1==s3"
   ]
  },
  {
   "cell_type": "code",
   "execution_count": 556,
   "id": "bbe56d83-f9db-4f9c-960b-35c9ae579302",
   "metadata": {},
   "outputs": [
    {
     "data": {
      "text/plain": [
       "True"
      ]
     },
     "execution_count": 556,
     "metadata": {},
     "output_type": "execute_result"
    }
   ],
   "source": [
    "s3==s2"
   ]
  },
  {
   "cell_type": "code",
   "execution_count": 557,
   "id": "530859fb-98b4-4084-bf2d-5183e2770525",
   "metadata": {},
   "outputs": [
    {
     "name": "stdout",
     "output_type": "stream",
     "text": [
      "apple\n",
      "apple\n"
     ]
    }
   ],
   "source": [
    "print(s2)\n",
    "print(s3)"
   ]
  },
  {
   "cell_type": "code",
   "execution_count": 558,
   "id": "fec8cc01-d1d5-4dd0-9c55-04f773460dbd",
   "metadata": {},
   "outputs": [],
   "source": [
    "x = 34"
   ]
  },
  {
   "cell_type": "code",
   "execution_count": 559,
   "id": "c2ca34f5-f8d9-4b3e-9091-4ea726f6749d",
   "metadata": {},
   "outputs": [
    {
     "data": {
      "text/plain": [
       "4379518600"
      ]
     },
     "execution_count": 559,
     "metadata": {},
     "output_type": "execute_result"
    }
   ],
   "source": [
    "y = x\n",
    "id(x)"
   ]
  },
  {
   "cell_type": "code",
   "execution_count": 560,
   "id": "e17f3678-f18e-4360-887e-b2167278e5fd",
   "metadata": {},
   "outputs": [
    {
     "data": {
      "text/plain": [
       "4379518600"
      ]
     },
     "execution_count": 560,
     "metadata": {},
     "output_type": "execute_result"
    }
   ],
   "source": [
    "id(y)"
   ]
  },
  {
   "cell_type": "code",
   "execution_count": 561,
   "id": "d91cf260-06ee-45e1-9bcb-b885693beaae",
   "metadata": {},
   "outputs": [],
   "source": [
    "y = 64"
   ]
  },
  {
   "cell_type": "code",
   "execution_count": 562,
   "id": "309d1aeb-a7e2-4729-8bbf-d48fd0dd56bc",
   "metadata": {},
   "outputs": [
    {
     "data": {
      "text/plain": [
       "4379519560"
      ]
     },
     "execution_count": 562,
     "metadata": {},
     "output_type": "execute_result"
    }
   ],
   "source": [
    "id(y)"
   ]
  },
  {
   "cell_type": "markdown",
   "id": "4e8a0c7a-1dd2-40d2-8dea-cdb5137f38b1",
   "metadata": {},
   "source": [
    "## Arithmetics Operation"
   ]
  },
  {
   "cell_type": "code",
   "execution_count": 564,
   "id": "0acc8f9e-2010-4bc2-b884-3b029b573fa0",
   "metadata": {},
   "outputs": [],
   "source": [
    "x = 50\n",
    "y = 25"
   ]
  },
  {
   "cell_type": "code",
   "execution_count": 565,
   "id": "2823f8a2-8966-4811-a824-709d6ebb6bed",
   "metadata": {},
   "outputs": [],
   "source": [
    "addition = x + y"
   ]
  },
  {
   "cell_type": "code",
   "execution_count": 566,
   "id": "74dfe03e-553b-4ea3-a7ff-c7b10e52a9fe",
   "metadata": {},
   "outputs": [
    {
     "name": "stdout",
     "output_type": "stream",
     "text": [
      "75\n"
     ]
    }
   ],
   "source": [
    "print(addition)"
   ]
  },
  {
   "cell_type": "code",
   "execution_count": 567,
   "id": "c2ac852f-ad4c-4336-8a47-bc1a9f0a8382",
   "metadata": {},
   "outputs": [],
   "source": [
    "substraction = x - y"
   ]
  },
  {
   "cell_type": "code",
   "execution_count": 568,
   "id": "f3ff964f-5966-4e4e-947c-c99044ac3e13",
   "metadata": {},
   "outputs": [
    {
     "name": "stdout",
     "output_type": "stream",
     "text": [
      "25\n"
     ]
    }
   ],
   "source": [
    "print(substraction)"
   ]
  },
  {
   "cell_type": "code",
   "execution_count": 569,
   "id": "fde7ff53-b1ab-4138-95ff-fbe1af1e42bf",
   "metadata": {},
   "outputs": [],
   "source": [
    "division = x / y"
   ]
  },
  {
   "cell_type": "code",
   "execution_count": 570,
   "id": "399d742e-1511-4dd3-b3a7-b19bac0578d2",
   "metadata": {},
   "outputs": [
    {
     "name": "stdout",
     "output_type": "stream",
     "text": [
      "2.0\n"
     ]
    }
   ],
   "source": [
    "print(division)"
   ]
  },
  {
   "cell_type": "code",
   "execution_count": 571,
   "id": "7f05c41c-be97-4872-ae96-ae1c0a158ee2",
   "metadata": {},
   "outputs": [],
   "source": [
    "multiplication = x * y"
   ]
  },
  {
   "cell_type": "code",
   "execution_count": 572,
   "id": "5c0bff6e-aa97-4705-95b1-582c827c1c64",
   "metadata": {},
   "outputs": [
    {
     "name": "stdout",
     "output_type": "stream",
     "text": [
      "1250\n"
     ]
    }
   ],
   "source": [
    "print(multiplication)"
   ]
  },
  {
   "cell_type": "code",
   "execution_count": 573,
   "id": "15922927-5e15-4205-a064-47811a49f0b7",
   "metadata": {},
   "outputs": [],
   "source": [
    "modulo = x % y"
   ]
  },
  {
   "cell_type": "code",
   "execution_count": 574,
   "id": "e1833b7b-ac0b-4379-97ac-5e09a296d5af",
   "metadata": {},
   "outputs": [
    {
     "name": "stdout",
     "output_type": "stream",
     "text": [
      "0\n"
     ]
    }
   ],
   "source": [
    "print(modulo)"
   ]
  },
  {
   "cell_type": "code",
   "execution_count": 575,
   "id": "af73853d-d04a-405f-8424-b685775e8c9d",
   "metadata": {},
   "outputs": [],
   "source": [
    "expo = x**y"
   ]
  },
  {
   "cell_type": "code",
   "execution_count": 576,
   "id": "a981f017-e37d-4a07-ac5a-26d84c1a8503",
   "metadata": {},
   "outputs": [
    {
     "name": "stdout",
     "output_type": "stream",
     "text": [
      "2980232238769531250000000000000000000000000\n"
     ]
    }
   ],
   "source": [
    "print(expo)"
   ]
  },
  {
   "cell_type": "code",
   "execution_count": 577,
   "id": "33e3f576-7910-45a9-aa5e-743d25457d14",
   "metadata": {},
   "outputs": [],
   "source": [
    "squared1 = x**2"
   ]
  },
  {
   "cell_type": "code",
   "execution_count": 578,
   "id": "0f222b17-a096-4f9c-a315-4e26459f71d3",
   "metadata": {},
   "outputs": [
    {
     "name": "stdout",
     "output_type": "stream",
     "text": [
      "2500\n"
     ]
    }
   ],
   "source": [
    "print(squared1)"
   ]
  },
  {
   "cell_type": "code",
   "execution_count": 579,
   "id": "cf5cd1e7-5fd5-4259-aead-ace15afe612c",
   "metadata": {},
   "outputs": [],
   "source": [
    "squared2 = y**2"
   ]
  },
  {
   "cell_type": "code",
   "execution_count": 580,
   "id": "9c47cf02-31e2-447c-993b-8a258ba9533a",
   "metadata": {},
   "outputs": [
    {
     "name": "stdout",
     "output_type": "stream",
     "text": [
      "625\n"
     ]
    }
   ],
   "source": [
    "print(squared2)"
   ]
  },
  {
   "cell_type": "code",
   "execution_count": 581,
   "id": "904fcd64-c02c-4370-8d4a-6a73415ccc1c",
   "metadata": {},
   "outputs": [
    {
     "data": {
      "text/plain": [
       "5.0"
      ]
     },
     "execution_count": 581,
     "metadata": {},
     "output_type": "execute_result"
    }
   ],
   "source": [
    "y**(1/2)"
   ]
  },
  {
   "cell_type": "markdown",
   "id": "22d6d4ee-5415-490d-bdfe-fd745cb18c70",
   "metadata": {},
   "source": [
    "## Arithmetics Assig,nment Operators"
   ]
  },
  {
   "cell_type": "code",
   "execution_count": 583,
   "id": "3bb27af4-17da-405f-94e6-202f5d5d5602",
   "metadata": {},
   "outputs": [],
   "source": [
    "a=10"
   ]
  },
  {
   "cell_type": "code",
   "execution_count": 584,
   "id": "29b6e696-1639-4075-b349-064bbf467c6a",
   "metadata": {},
   "outputs": [],
   "source": [
    "a=a+5"
   ]
  },
  {
   "cell_type": "code",
   "execution_count": 585,
   "id": "d0f17038-6ed5-4088-ae08-d4ef919d6336",
   "metadata": {},
   "outputs": [
    {
     "data": {
      "text/plain": [
       "15"
      ]
     },
     "execution_count": 585,
     "metadata": {},
     "output_type": "execute_result"
    }
   ],
   "source": [
    "a"
   ]
  },
  {
   "cell_type": "code",
   "execution_count": 586,
   "id": "358cdfad-7010-42e1-befb-7b7a929ad122",
   "metadata": {},
   "outputs": [],
   "source": [
    "a=a+5"
   ]
  },
  {
   "cell_type": "code",
   "execution_count": 587,
   "id": "e67ae8c1-af7c-4247-875f-c7ca1dbc45eb",
   "metadata": {},
   "outputs": [
    {
     "data": {
      "text/plain": [
       "20"
      ]
     },
     "execution_count": 587,
     "metadata": {},
     "output_type": "execute_result"
    }
   ],
   "source": [
    "a"
   ]
  },
  {
   "cell_type": "code",
   "execution_count": 588,
   "id": "ddb7d626-9ff0-43ac-a374-fd17ec36306b",
   "metadata": {},
   "outputs": [],
   "source": [
    "a += 5"
   ]
  },
  {
   "cell_type": "code",
   "execution_count": 589,
   "id": "17ae018b-8e4a-4a8e-8680-ab9a2c9b7a6b",
   "metadata": {},
   "outputs": [
    {
     "data": {
      "text/plain": [
       "25"
      ]
     },
     "execution_count": 589,
     "metadata": {},
     "output_type": "execute_result"
    }
   ],
   "source": [
    "a"
   ]
  },
  {
   "cell_type": "code",
   "execution_count": 590,
   "id": "dd6dbaaa-5bd4-42d9-b96c-410c9d245248",
   "metadata": {},
   "outputs": [],
   "source": [
    "a = a - 5"
   ]
  },
  {
   "cell_type": "code",
   "execution_count": 591,
   "id": "a1c2f701-64d3-4ad5-bb1d-2481d9005604",
   "metadata": {},
   "outputs": [
    {
     "data": {
      "text/plain": [
       "20"
      ]
     },
     "execution_count": 591,
     "metadata": {},
     "output_type": "execute_result"
    }
   ],
   "source": [
    "a"
   ]
  },
  {
   "cell_type": "code",
   "execution_count": 592,
   "id": "80074f9c-15d5-422b-9ebe-c55a4a109346",
   "metadata": {},
   "outputs": [],
   "source": [
    "a -= 5"
   ]
  },
  {
   "cell_type": "code",
   "execution_count": 593,
   "id": "b9bade50-c200-419b-98d4-db15286f7ba5",
   "metadata": {},
   "outputs": [
    {
     "data": {
      "text/plain": [
       "15"
      ]
     },
     "execution_count": 593,
     "metadata": {},
     "output_type": "execute_result"
    }
   ],
   "source": [
    "a"
   ]
  },
  {
   "cell_type": "markdown",
   "id": "7af18bf5-4a99-49e8-861e-1abb3ec648d7",
   "metadata": {},
   "source": [
    "## Comparison Operator"
   ]
  },
  {
   "cell_type": "code",
   "execution_count": 595,
   "id": "f0dce162-ae68-447b-b08b-b5b36cfeee88",
   "metadata": {},
   "outputs": [],
   "source": [
    "a = 20\n",
    "b = 20"
   ]
  },
  {
   "cell_type": "code",
   "execution_count": 596,
   "id": "96ab3227-1d4c-4e3c-bb5c-0dd24664fce9",
   "metadata": {},
   "outputs": [
    {
     "data": {
      "text/plain": [
       "True"
      ]
     },
     "execution_count": 596,
     "metadata": {},
     "output_type": "execute_result"
    }
   ],
   "source": [
    "a==a"
   ]
  },
  {
   "cell_type": "code",
   "execution_count": 597,
   "id": "2ef36bda-fc77-469f-b632-ccddc1cda4a2",
   "metadata": {},
   "outputs": [
    {
     "data": {
      "text/plain": [
       "True"
      ]
     },
     "execution_count": 597,
     "metadata": {},
     "output_type": "execute_result"
    }
   ],
   "source": [
    "a == b"
   ]
  },
  {
   "cell_type": "code",
   "execution_count": 598,
   "id": "2b6e8783-f9b2-45f7-a5e3-df0a12d79b6d",
   "metadata": {},
   "outputs": [
    {
     "data": {
      "text/plain": [
       "False"
      ]
     },
     "execution_count": 598,
     "metadata": {},
     "output_type": "execute_result"
    }
   ],
   "source": [
    "a != b"
   ]
  },
  {
   "cell_type": "code",
   "execution_count": 599,
   "id": "e05e7746-d247-4080-a648-353667c09569",
   "metadata": {},
   "outputs": [],
   "source": [
    "a = 25\n",
    "b = 20"
   ]
  },
  {
   "cell_type": "code",
   "execution_count": 600,
   "id": "6dfa0415-67b5-4bb3-bceb-59b92f4564e2",
   "metadata": {},
   "outputs": [
    {
     "data": {
      "text/plain": [
       "True"
      ]
     },
     "execution_count": 600,
     "metadata": {},
     "output_type": "execute_result"
    }
   ],
   "source": [
    "a > b"
   ]
  },
  {
   "cell_type": "code",
   "execution_count": 601,
   "id": "8ed18a82-5a76-4337-8f2a-4a93ba9d9d66",
   "metadata": {},
   "outputs": [
    {
     "data": {
      "text/plain": [
       "False"
      ]
     },
     "execution_count": 601,
     "metadata": {},
     "output_type": "execute_result"
    }
   ],
   "source": [
    "b > a"
   ]
  },
  {
   "cell_type": "code",
   "execution_count": 602,
   "id": "36f30a41-5726-43e7-a38d-fc8e281bc969",
   "metadata": {},
   "outputs": [
    {
     "data": {
      "text/plain": [
       "True"
      ]
     },
     "execution_count": 602,
     "metadata": {},
     "output_type": "execute_result"
    }
   ],
   "source": [
    "b < a"
   ]
  },
  {
   "cell_type": "markdown",
   "id": "a0d07f15-b620-4809-9c5e-b0d941700263",
   "metadata": {},
   "source": [
    "## Miscellaneous Operators"
   ]
  },
  {
   "cell_type": "code",
   "execution_count": 604,
   "id": "314a27dc-01fb-4ef5-abb3-963ca380fe04",
   "metadata": {},
   "outputs": [],
   "source": [
    "list1 =  ['a', 'b', 'c']"
   ]
  },
  {
   "cell_type": "code",
   "execution_count": 605,
   "id": "159c46bf-742d-4a0f-a7b9-3e68e13e6dd4",
   "metadata": {},
   "outputs": [
    {
     "data": {
      "text/plain": [
       "list"
      ]
     },
     "execution_count": 605,
     "metadata": {},
     "output_type": "execute_result"
    }
   ],
   "source": [
    "type(list1)"
   ]
  },
  {
   "cell_type": "code",
   "execution_count": 606,
   "id": "1a70b77a-bffc-40b4-bfdf-11bf7a6aa58f",
   "metadata": {},
   "outputs": [],
   "source": [
    "list2 = ['b', 'a', 'c']"
   ]
  },
  {
   "cell_type": "code",
   "execution_count": 607,
   "id": "b11c0299-84eb-4e08-8773-fdeada88c698",
   "metadata": {},
   "outputs": [
    {
     "data": {
      "text/plain": [
       "False"
      ]
     },
     "execution_count": 607,
     "metadata": {},
     "output_type": "execute_result"
    }
   ],
   "source": [
    "a is b"
   ]
  },
  {
   "cell_type": "markdown",
   "id": "c18fe5d9-b555-489c-b649-c45e71d46cb9",
   "metadata": {},
   "source": [
    "## Membership Operator"
   ]
  },
  {
   "cell_type": "code",
   "execution_count": 609,
   "id": "cfed6abb-4c2a-4ac6-a004-c0dfc811f3a8",
   "metadata": {},
   "outputs": [
    {
     "data": {
      "text/plain": [
       "True"
      ]
     },
     "execution_count": 609,
     "metadata": {},
     "output_type": "execute_result"
    }
   ],
   "source": [
    "'a' in list1"
   ]
  },
  {
   "cell_type": "code",
   "execution_count": 610,
   "id": "74bd0960-db7b-4e09-af98-46aeb47a2977",
   "metadata": {},
   "outputs": [
    {
     "data": {
      "text/plain": [
       "False"
      ]
     },
     "execution_count": 610,
     "metadata": {},
     "output_type": "execute_result"
    }
   ],
   "source": [
    "'d' in list1"
   ]
  },
  {
   "cell_type": "code",
   "execution_count": 611,
   "id": "ad3c8fd4-446b-45a4-92e3-ff82e703218b",
   "metadata": {},
   "outputs": [],
   "source": [
    "list3 = [10, 20, 30, 40]"
   ]
  },
  {
   "cell_type": "code",
   "execution_count": 612,
   "id": "8b689198-4b5d-43e0-b6a1-46c8f24b3a39",
   "metadata": {},
   "outputs": [
    {
     "data": {
      "text/plain": [
       "False"
      ]
     },
     "execution_count": 612,
     "metadata": {},
     "output_type": "execute_result"
    }
   ],
   "source": [
    "50 in list3"
   ]
  },
  {
   "cell_type": "code",
   "execution_count": 613,
   "id": "19d6c3cc-8dfb-4013-9086-6702d20cc4b4",
   "metadata": {},
   "outputs": [
    {
     "data": {
      "text/plain": [
       "True"
      ]
     },
     "execution_count": 613,
     "metadata": {},
     "output_type": "execute_result"
    }
   ],
   "source": [
    "20 in list3"
   ]
  },
  {
   "cell_type": "code",
   "execution_count": null,
   "id": "328d88ae-20cc-44f5-9fe2-ae64e50d99c7",
   "metadata": {},
   "outputs": [],
   "source": []
  },
  {
   "cell_type": "code",
   "execution_count": null,
   "id": "8d9e81fc-cddb-4a6a-b516-c2759545d113",
   "metadata": {},
   "outputs": [],
   "source": []
  },
  {
   "cell_type": "code",
   "execution_count": null,
   "id": "efe60de0-5380-42f5-97f1-95ba9688f43b",
   "metadata": {},
   "outputs": [],
   "source": []
  }
 ],
 "metadata": {
  "kernelspec": {
   "display_name": "Python 3 (ipykernel)",
   "language": "python",
   "name": "python3"
  },
  "language_info": {
   "codemirror_mode": {
    "name": "ipython",
    "version": 3
   },
   "file_extension": ".py",
   "mimetype": "text/x-python",
   "name": "python",
   "nbconvert_exporter": "python",
   "pygments_lexer": "ipython3",
   "version": "3.12.4"
  }
 },
 "nbformat": 4,
 "nbformat_minor": 5
}
