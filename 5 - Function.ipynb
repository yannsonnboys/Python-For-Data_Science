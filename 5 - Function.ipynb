{
 "cells": [
  {
   "cell_type": "markdown",
   "id": "b12d4ab6-51ad-4bee-b900-2554d0ca1447",
   "metadata": {},
   "source": [
    "# Function"
   ]
  },
  {
   "cell_type": "code",
   "execution_count": 2,
   "id": "adadc1ea-e92f-43d3-abd7-801c1bc80b62",
   "metadata": {},
   "outputs": [
    {
     "name": "stdout",
     "output_type": "stream",
     "text": [
      "3\n"
     ]
    }
   ],
   "source": [
    "x = 1\n",
    "y = 2\n",
    "\n",
    "z = x + y\n",
    "print(z)"
   ]
  },
  {
   "cell_type": "code",
   "execution_count": 4,
   "id": "1f0ca0b4-db07-404d-8dec-c13d8e28e702",
   "metadata": {},
   "outputs": [],
   "source": [
    "def add(a, b):\n",
    "    return a + b"
   ]
  },
  {
   "cell_type": "code",
   "execution_count": 6,
   "id": "7efe95f8-2503-4a84-afba-a1476ca5902e",
   "metadata": {},
   "outputs": [
    {
     "data": {
      "text/plain": [
       "14"
      ]
     },
     "execution_count": 6,
     "metadata": {},
     "output_type": "execute_result"
    }
   ],
   "source": [
    "add(6, 8)"
   ]
  },
  {
   "cell_type": "code",
   "execution_count": 8,
   "id": "61811356-2b4e-43cc-bc59-8e80f2a19e3c",
   "metadata": {},
   "outputs": [],
   "source": [
    "def subtract(a, b):\n",
    "    return a - b"
   ]
  },
  {
   "cell_type": "code",
   "execution_count": 10,
   "id": "ed382e4f-7aef-4290-9df8-d7a56174c8c3",
   "metadata": {},
   "outputs": [
    {
     "data": {
      "text/plain": [
       "15"
      ]
     },
     "execution_count": 10,
     "metadata": {},
     "output_type": "execute_result"
    }
   ],
   "source": [
    "subtract(20, 5)"
   ]
  },
  {
   "cell_type": "code",
   "execution_count": 12,
   "id": "867f93f1-abc3-4f51-8fa8-78b9f0c4099e",
   "metadata": {},
   "outputs": [],
   "source": [
    "# If given a list a program to return the max value of the lis\n",
    "list1 = [10, 19, 7, 11, 100, 43]"
   ]
  },
  {
   "cell_type": "code",
   "execution_count": 14,
   "id": "e909a9a2-b561-4ab1-b8aa-0bd88c6548b5",
   "metadata": {},
   "outputs": [],
   "source": [
    "list1.sort()"
   ]
  },
  {
   "cell_type": "code",
   "execution_count": 16,
   "id": "536ad365-4112-4c68-bd13-2ae735aa11b8",
   "metadata": {},
   "outputs": [
    {
     "data": {
      "text/plain": [
       "[7, 10, 11, 19, 43, 100]"
      ]
     },
     "execution_count": 16,
     "metadata": {},
     "output_type": "execute_result"
    }
   ],
   "source": [
    "list1"
   ]
  },
  {
   "cell_type": "code",
   "execution_count": 18,
   "id": "4a65b495-9f27-4416-aa0c-6b64ee083f31",
   "metadata": {},
   "outputs": [],
   "source": [
    "list1.sort(reverse = True)"
   ]
  },
  {
   "cell_type": "code",
   "execution_count": 20,
   "id": "5ddd9e5c-cd04-4acd-b990-e58da55ad899",
   "metadata": {},
   "outputs": [
    {
     "data": {
      "text/plain": [
       "[100, 43, 19, 11, 10, 7]"
      ]
     },
     "execution_count": 20,
     "metadata": {},
     "output_type": "execute_result"
    }
   ],
   "source": [
    "list1"
   ]
  },
  {
   "cell_type": "code",
   "execution_count": 22,
   "id": "1166fb3f-7004-4d00-b074-e959f7530096",
   "metadata": {},
   "outputs": [
    {
     "data": {
      "text/plain": [
       "100"
      ]
     },
     "execution_count": 22,
     "metadata": {},
     "output_type": "execute_result"
    }
   ],
   "source": [
    "list1[0]"
   ]
  },
  {
   "cell_type": "code",
   "execution_count": 24,
   "id": "77c2b084-641a-412b-9d85-f6307b24d43a",
   "metadata": {},
   "outputs": [],
   "source": [
    "def max_list(list1):\n",
    "    list1.sort(reverse = True)\n",
    "    return list1[0]"
   ]
  },
  {
   "cell_type": "code",
   "execution_count": 26,
   "id": "d4a13931-2b9c-43b3-991e-70c29660e509",
   "metadata": {},
   "outputs": [
    {
     "data": {
      "text/plain": [
       "78"
      ]
     },
     "execution_count": 26,
     "metadata": {},
     "output_type": "execute_result"
    }
   ],
   "source": [
    "max_list([34,76,43,21,78,65])"
   ]
  },
  {
   "cell_type": "code",
   "execution_count": 28,
   "id": "d3ed1a15-fac6-4e67-b429-e26ece29d04b",
   "metadata": {},
   "outputs": [],
   "source": [
    "def max_list(list1):\n",
    "    list1.sort()\n",
    "    return list1[0]"
   ]
  },
  {
   "cell_type": "code",
   "execution_count": 30,
   "id": "758eff78-b67e-432c-ac6b-b8227df20d6f",
   "metadata": {},
   "outputs": [
    {
     "data": {
      "text/plain": [
       "21"
      ]
     },
     "execution_count": 30,
     "metadata": {},
     "output_type": "execute_result"
    }
   ],
   "source": [
    "max_list([34,76,43,21,78,65])"
   ]
  },
  {
   "cell_type": "code",
   "execution_count": 32,
   "id": "c5e16771-e672-44d2-993c-5fd1cb1c47a6",
   "metadata": {},
   "outputs": [
    {
     "data": {
      "text/plain": [
       "100"
      ]
     },
     "execution_count": 32,
     "metadata": {},
     "output_type": "execute_result"
    }
   ],
   "source": [
    "max(list1)"
   ]
  },
  {
   "cell_type": "code",
   "execution_count": 34,
   "id": "1a624232-c517-475a-834a-0e91a22d1e49",
   "metadata": {},
   "outputs": [
    {
     "data": {
      "text/plain": [
       "7"
      ]
     },
     "execution_count": 34,
     "metadata": {},
     "output_type": "execute_result"
    }
   ],
   "source": [
    "min(list1)"
   ]
  },
  {
   "cell_type": "code",
   "execution_count": null,
   "id": "09f8a926-4113-4822-b9e7-a20023930abb",
   "metadata": {},
   "outputs": [],
   "source": [
    "# If given a list a program to return the max and min value of the list"
   ]
  },
  {
   "cell_type": "code",
   "execution_count": 36,
   "id": "1163dcd7-ad1c-4e8e-95dd-86d35ae7db5a",
   "metadata": {},
   "outputs": [],
   "source": [
    "def max_min_lis(list1):\n",
    "    return min(list1), max(list1)"
   ]
  },
  {
   "cell_type": "code",
   "execution_count": 38,
   "id": "5f698e07-f0c4-44fe-8f54-199c820628ee",
   "metadata": {},
   "outputs": [
    {
     "data": {
      "text/plain": [
       "(21, 78)"
      ]
     },
     "execution_count": 38,
     "metadata": {},
     "output_type": "execute_result"
    }
   ],
   "source": [
    "max_min_lis([34,76,43,21,78,65])"
   ]
  },
  {
   "cell_type": "markdown",
   "id": "eb00c37f-62a1-486c-a57d-b030f983b93a",
   "metadata": {},
   "source": [
    "### Take input from students about their manrks in Match , Science and English . Calculate the avarage marks for each of the students . Assign a grade based on , \n",
    "\n",
    "### - A if average is >= 90 \n",
    "### - B if avarega >= 80 but < 90 \n",
    "### - C if average >= 70 but < 80 \n",
    "### - D if avarage < 70 "
   ]
  },
  {
   "cell_type": "code",
   "execution_count": 43,
   "id": "cbf02a95-005f-4809-a966-515e667e7c7d",
   "metadata": {},
   "outputs": [
    {
     "name": "stdin",
     "output_type": "stream",
     "text": [
      "Enter number of students:  5\n",
      "Enter the name: Yannick\n",
      "Math Score is:  90\n",
      "Science Score is:  95\n",
      "English Score is:  90\n"
     ]
    },
    {
     "name": "stdout",
     "output_type": "stream",
     "text": [
      "The average score is 91.66666666666667\n",
      "A\n"
     ]
    },
    {
     "name": "stdin",
     "output_type": "stream",
     "text": [
      "Enter the name: Alvine\n",
      "Math Score is:  95\n",
      "Science Score is:  80\n",
      "English Score is:  85\n"
     ]
    },
    {
     "name": "stdout",
     "output_type": "stream",
     "text": [
      "The average score is 86.66666666666667\n",
      "B\n"
     ]
    },
    {
     "name": "stdin",
     "output_type": "stream",
     "text": [
      "Enter the name: Joel\n",
      "Math Score is:  100\n",
      "Science Score is:  97\n",
      "English Score is:  98\n"
     ]
    },
    {
     "name": "stdout",
     "output_type": "stream",
     "text": [
      "The average score is 98.33333333333333\n",
      "A\n"
     ]
    },
    {
     "name": "stdin",
     "output_type": "stream",
     "text": [
      "Enter the name: Peter\n",
      "Math Score is:  89\n",
      "Science Score is:  75\n",
      "English Score is:  \n"
     ]
    },
    {
     "ename": "ValueError",
     "evalue": "invalid literal for int() with base 10: ''",
     "output_type": "error",
     "traceback": [
      "\u001b[0;31m---------------------------------------------------------------------------\u001b[0m",
      "\u001b[0;31mValueError\u001b[0m                                Traceback (most recent call last)",
      "Cell \u001b[0;32mIn[43], line 24\u001b[0m\n\u001b[1;32m     21\u001b[0m         \u001b[38;5;28mprint\u001b[39m(grade)\n\u001b[1;32m     23\u001b[0m num_students \u001b[38;5;241m=\u001b[39m \u001b[38;5;28mint\u001b[39m(\u001b[38;5;28minput\u001b[39m(\u001b[38;5;124m\"\u001b[39m\u001b[38;5;124mEnter number of students: \u001b[39m\u001b[38;5;124m\"\u001b[39m))\n\u001b[0;32m---> 24\u001b[0m get_score_avg(num_students)\n",
      "Cell \u001b[0;32mIn[43], line 16\u001b[0m, in \u001b[0;36mget_score_avg\u001b[0;34m(num_students)\u001b[0m\n\u001b[1;32m     14\u001b[0m math_score \u001b[38;5;241m=\u001b[39m \u001b[38;5;28mint\u001b[39m(\u001b[38;5;28minput\u001b[39m(\u001b[38;5;124m\"\u001b[39m\u001b[38;5;124mMath Score is: \u001b[39m\u001b[38;5;124m\"\u001b[39m))\n\u001b[1;32m     15\u001b[0m science_score \u001b[38;5;241m=\u001b[39m \u001b[38;5;28mint\u001b[39m(\u001b[38;5;28minput\u001b[39m(\u001b[38;5;124m\"\u001b[39m\u001b[38;5;124mScience Score is: \u001b[39m\u001b[38;5;124m\"\u001b[39m))\n\u001b[0;32m---> 16\u001b[0m english_score \u001b[38;5;241m=\u001b[39m \u001b[38;5;28mint\u001b[39m(\u001b[38;5;28minput\u001b[39m(\u001b[38;5;124m\"\u001b[39m\u001b[38;5;124mEnglish Score is: \u001b[39m\u001b[38;5;124m\"\u001b[39m))\n\u001b[1;32m     17\u001b[0m average_score \u001b[38;5;241m=\u001b[39m (math_score \u001b[38;5;241m+\u001b[39m science_score \u001b[38;5;241m+\u001b[39m english_score) \u001b[38;5;241m/\u001b[39m \u001b[38;5;241m3\u001b[39m\n\u001b[1;32m     19\u001b[0m \u001b[38;5;28mprint\u001b[39m(\u001b[38;5;124m\"\u001b[39m\u001b[38;5;124mThe average score is\u001b[39m\u001b[38;5;124m\"\u001b[39m, average_score)\n",
      "\u001b[0;31mValueError\u001b[0m: invalid literal for int() with base 10: ''"
     ]
    }
   ],
   "source": [
    "def get_grades(average_score) :\n",
    "    if average_score >= 90:\n",
    "        return \"A\"\n",
    "    elif average_score >= 80:\n",
    "        return \"B\"\n",
    "    elif average_score >= 70:\n",
    "        return \"C\"\n",
    "    else:\n",
    "        return \"D\"\n",
    "\n",
    "def get_score_avg(num_students) :\n",
    "    for i in range(num_students) :\n",
    "        name = input(\"Enter the name:\")\n",
    "        math_score = int(input(\"Math Score is: \"))\n",
    "        science_score = int(input(\"Science Score is: \"))\n",
    "        english_score = int(input(\"English Score is: \"))\n",
    "        average_score = (math_score + science_score + english_score) / 3\n",
    "\n",
    "        print(\"The average score is\", average_score)\n",
    "        grade = get_grades(average_score)\n",
    "        print(grade)\n",
    "\n",
    "num_students = int(input(\"Enter number of students: \"))\n",
    "get_score_avg(num_students)"
   ]
  },
  {
   "cell_type": "code",
   "execution_count": 45,
   "id": "3a29b7be-a929-4d01-a59f-66395b9249a1",
   "metadata": {},
   "outputs": [],
   "source": []
  },
  {
   "cell_type": "code",
   "execution_count": null,
   "id": "5eeaf63a-f7f9-4c98-a94c-2a8c54e1f449",
   "metadata": {},
   "outputs": [],
   "source": []
  },
  {
   "cell_type": "code",
   "execution_count": null,
   "id": "ccc3922c-ec0c-47f7-8a2b-d66695ecb752",
   "metadata": {},
   "outputs": [],
   "source": []
  },
  {
   "cell_type": "code",
   "execution_count": null,
   "id": "57b75ada-13a3-4b5a-bee3-1a7ccb92c225",
   "metadata": {},
   "outputs": [],
   "source": []
  },
  {
   "cell_type": "code",
   "execution_count": null,
   "id": "cc545000-574d-4d86-801b-43bd1f07e828",
   "metadata": {},
   "outputs": [],
   "source": []
  },
  {
   "cell_type": "code",
   "execution_count": null,
   "id": "3dfd3052-ada0-49ba-91b0-ba3a1de686ff",
   "metadata": {},
   "outputs": [],
   "source": []
  },
  {
   "cell_type": "code",
   "execution_count": null,
   "id": "8b396362-4ecc-4b87-b070-91f972ab915e",
   "metadata": {},
   "outputs": [],
   "source": []
  },
  {
   "cell_type": "code",
   "execution_count": null,
   "id": "351078c9-7893-4e0d-8a73-f45da5170ca8",
   "metadata": {},
   "outputs": [],
   "source": []
  },
  {
   "cell_type": "code",
   "execution_count": null,
   "id": "750d0092-560b-4c05-8298-68f82564ab36",
   "metadata": {},
   "outputs": [],
   "source": []
  }
 ],
 "metadata": {
  "kernelspec": {
   "display_name": "Python 3 (ipykernel)",
   "language": "python",
   "name": "python3"
  },
  "language_info": {
   "codemirror_mode": {
    "name": "ipython",
    "version": 3
   },
   "file_extension": ".py",
   "mimetype": "text/x-python",
   "name": "python",
   "nbconvert_exporter": "python",
   "pygments_lexer": "ipython3",
   "version": "3.12.4"
  }
 },
 "nbformat": 4,
 "nbformat_minor": 5
}
