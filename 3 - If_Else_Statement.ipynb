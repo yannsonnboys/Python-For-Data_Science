{
 "cells": [
  {
   "cell_type": "markdown",
   "id": "38da12bb-d68b-443a-b089-9111bc4c878c",
   "metadata": {},
   "source": [
    "# If Else Statement"
   ]
  },
  {
   "cell_type": "markdown",
   "id": "809146e5-7eea-477f-8192-4cdb79c0ab55",
   "metadata": {},
   "source": [
    "## Get a number from a user"
   ]
  },
  {
   "cell_type": "code",
   "execution_count": 3,
   "id": "17c483fd-67b2-44c0-9f3c-0d81509bc849",
   "metadata": {},
   "outputs": [
    {
     "name": "stdin",
     "output_type": "stream",
     "text": [
      "Enter a number: 10\n"
     ]
    }
   ],
   "source": [
    "num = int(input(\"Enter a number:\"))"
   ]
  },
  {
   "cell_type": "code",
   "execution_count": 5,
   "id": "49bbe24e-c8b8-425e-b0df-bb4068865842",
   "metadata": {},
   "outputs": [
    {
     "data": {
      "text/plain": [
       "10"
      ]
     },
     "execution_count": 5,
     "metadata": {},
     "output_type": "execute_result"
    }
   ],
   "source": [
    "num"
   ]
  },
  {
   "cell_type": "code",
   "execution_count": 7,
   "id": "62176ebb-8fc2-45ed-b7ab-577a535c6b74",
   "metadata": {},
   "outputs": [
    {
     "data": {
      "text/plain": [
       "int"
      ]
     },
     "execution_count": 7,
     "metadata": {},
     "output_type": "execute_result"
    }
   ],
   "source": [
    "type(num)"
   ]
  },
  {
   "cell_type": "markdown",
   "id": "886d1aa5-4a2a-416d-b6e3-be65fc66dba3",
   "metadata": {},
   "source": [
    "## If Else"
   ]
  },
  {
   "cell_type": "code",
   "execution_count": 10,
   "id": "520c5314-a18c-4ff9-8609-476a86606b00",
   "metadata": {},
   "outputs": [
    {
     "name": "stdout",
     "output_type": "stream",
     "text": [
      "This is a positive number\n"
     ]
    }
   ],
   "source": [
    "if num > 0 :\n",
    "    print(\"This is a positive number\")\n",
    "elif num < 0 :\n",
    "     print(\"This is a negative number\")\n",
    "else :\n",
    "     print(\"This is 0\")\n"
   ]
  },
  {
   "cell_type": "code",
   "execution_count": 12,
   "id": "dd215b63-8a68-4b5e-b7e0-c83ed2c0cf23",
   "metadata": {},
   "outputs": [
    {
     "name": "stdin",
     "output_type": "stream",
     "text": [
      "Enter a number: -20\n"
     ]
    },
    {
     "name": "stdout",
     "output_type": "stream",
     "text": [
      "This is a negative number\n"
     ]
    }
   ],
   "source": [
    "num = int(input(\"Enter a number:\"))\n",
    "\n",
    "if num > 0 :\n",
    "    print(\"This is a positive number\")\n",
    "elif num < 0 :\n",
    "     print(\"This is a negative number\")\n",
    "else :\n",
    "     print(\"This is 0\")"
   ]
  },
  {
   "cell_type": "code",
   "execution_count": 14,
   "id": "63be7530-74a5-4b15-b91c-cf685b2d82d5",
   "metadata": {},
   "outputs": [
    {
     "name": "stdin",
     "output_type": "stream",
     "text": [
      "Enter a number: 0\n"
     ]
    },
    {
     "name": "stdout",
     "output_type": "stream",
     "text": [
      "This is 0\n"
     ]
    }
   ],
   "source": [
    "num = int(input(\"Enter a number:\"))\n",
    "\n",
    "if num > 0 :\n",
    "    print(\"This is a positive number\")\n",
    "elif num < 0 :\n",
    "     print(\"This is a negative number\")\n",
    "else :\n",
    "     print(\"This is 0\")"
   ]
  },
  {
   "cell_type": "code",
   "execution_count": 16,
   "id": "c826d1ab-bbd0-4624-8838-a8c73e144307",
   "metadata": {},
   "outputs": [
    {
     "name": "stdin",
     "output_type": "stream",
     "text": [
      "Enter a number: 50\n"
     ]
    },
    {
     "name": "stdout",
     "output_type": "stream",
     "text": [
      "This is a positive number\n"
     ]
    }
   ],
   "source": [
    "num = int(input(\"Enter a number:\"))\n",
    "\n",
    "if num > 0 :\n",
    "    print(\"This is a positive number\")\n",
    "elif num < 0 :\n",
    "     print(\"This is a negative number\")\n",
    "else :\n",
    "     print(\"This is 0\")"
   ]
  },
  {
   "cell_type": "markdown",
   "id": "a69042c4-b1d1-445f-ba00-71a33001d7eb",
   "metadata": {},
   "source": [
    "## Ask for the user's age"
   ]
  },
  {
   "cell_type": "code",
   "execution_count": 19,
   "id": "d58a6818-b5d8-41d4-ac61-00a55936703e",
   "metadata": {},
   "outputs": [
    {
     "name": "stdin",
     "output_type": "stream",
     "text": [
      "What age are you? : 12\n"
     ]
    },
    {
     "name": "stdout",
     "output_type": "stream",
     "text": [
      "You are not eligible for voting\n"
     ]
    }
   ],
   "source": [
    "age = int(input(\"What age are you? :\"))\n",
    "\n",
    "if age >= 18 :\n",
    "    print(\"You are eligible for voting\")\n",
    "else :\n",
    "    print(\"You are not eligible for voting\")"
   ]
  },
  {
   "cell_type": "code",
   "execution_count": 21,
   "id": "ecf617fe-d327-4eb6-b3fd-e1da688fef7f",
   "metadata": {},
   "outputs": [
    {
     "name": "stdin",
     "output_type": "stream",
     "text": [
      "What age are you? : 20\n"
     ]
    },
    {
     "name": "stdout",
     "output_type": "stream",
     "text": [
      "You are eligible for voting\n"
     ]
    }
   ],
   "source": [
    "age = int(input(\"What age are you? :\"))\n",
    "\n",
    "if age >= 18 :\n",
    "    print(\"You are eligible for voting\")\n",
    "else :\n",
    "    print(\"You are not eligible for voting\")"
   ]
  },
  {
   "cell_type": "markdown",
   "id": "38d47985-c322-43de-bb9b-bc565ed97594",
   "metadata": {},
   "source": [
    "## Find out an Odd or Even number"
   ]
  },
  {
   "cell_type": "code",
   "execution_count": 24,
   "id": "da1cabf4-8ec7-4736-b664-1c43e265909c",
   "metadata": {},
   "outputs": [
    {
     "name": "stdin",
     "output_type": "stream",
     "text": [
      "Give me a number: 5\n"
     ]
    },
    {
     "name": "stdout",
     "output_type": "stream",
     "text": [
      "5 is Odd\n"
     ]
    }
   ],
   "source": [
    "integer = int(input(\"Give me a number:\"))\n",
    "\n",
    "if integer % 2 == 0 :\n",
    "    print(f\"{integer} is Even\")\n",
    "else:\n",
    "    print(f\"{integer} is Odd\")\n",
    "\n"
   ]
  },
  {
   "cell_type": "code",
   "execution_count": 26,
   "id": "c1c61f5b-501a-4a83-9cd3-cd7dbe127b96",
   "metadata": {},
   "outputs": [
    {
     "name": "stdin",
     "output_type": "stream",
     "text": [
      "Give me a number: 10\n"
     ]
    },
    {
     "name": "stdout",
     "output_type": "stream",
     "text": [
      "10 is Even\n"
     ]
    }
   ],
   "source": [
    "integer = int(input(\"Give me a number:\"))\n",
    "\n",
    "if integer % 2 == 0 :\n",
    "    print(f\"{integer} is Even\")\n",
    "else:\n",
    "    print(f\"{integer} is Odd\")"
   ]
  },
  {
   "cell_type": "code",
   "execution_count": null,
   "id": "2600af60-3261-4441-aee8-4bbece863535",
   "metadata": {},
   "outputs": [],
   "source": []
  },
  {
   "cell_type": "code",
   "execution_count": null,
   "id": "985421c0-0452-416e-adbe-d007ce79d22d",
   "metadata": {},
   "outputs": [],
   "source": []
  }
 ],
 "metadata": {
  "kernelspec": {
   "display_name": "Python 3 (ipykernel)",
   "language": "python",
   "name": "python3"
  },
  "language_info": {
   "codemirror_mode": {
    "name": "ipython",
    "version": 3
   },
   "file_extension": ".py",
   "mimetype": "text/x-python",
   "name": "python",
   "nbconvert_exporter": "python",
   "pygments_lexer": "ipython3",
   "version": "3.12.4"
  }
 },
 "nbformat": 4,
 "nbformat_minor": 5
}
