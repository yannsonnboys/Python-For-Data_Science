{
 "cells": [
  {
   "cell_type": "code",
   "execution_count": 111,
   "id": "58bce362-ee61-45f8-b92b-ac05acf4ed23",
   "metadata": {},
   "outputs": [
    {
     "name": "stdout",
     "output_type": "stream",
     "text": [
      "The salary has been incresed by an amount of 10000. RThe new salary is 155200.0\n"
     ]
    }
   ],
   "source": [
    "manager.give_raise(10000)"
   ]
  },
  {
   "cell_type": "code",
   "execution_count": null,
   "id": "b204f45b-5c47-4e4a-a30b-558833c153c1",
   "metadata": {},
   "outputs": [],
   "source": []
  },
  {
   "cell_type": "code",
   "execution_count": 112,
   "id": "4c41d59e-72ef-4708-a5bf-1e11368cccec",
   "metadata": {},
   "outputs": [
    {
     "name": "stdout",
     "output_type": "stream",
     "text": [
      "The salary has been increased by an amount of 15520.0. The new salary is 170720.0\n"
     ]
    }
   ],
   "source": [
    "manager.give_bonus()"
   ]
  },
  {
   "cell_type": "code",
   "execution_count": null,
   "id": "ced6ce3a-6daa-4f33-b5bc-8f10f618def0",
   "metadata": {},
   "outputs": [],
   "source": []
  },
  {
   "cell_type": "code",
   "execution_count": null,
   "id": "640f4632-416c-491a-9b0d-7e230bce4d1c",
   "metadata": {},
   "outputs": [],
   "source": []
  },
  {
   "cell_type": "markdown",
   "id": "bff591d8-6f24-4214-af1f-af3c6f442f4e",
   "metadata": {},
   "source": [
    "# Polymorphisme"
   ]
  },
  {
   "cell_type": "markdown",
   "id": "8ec1ddb5-20c8-4ccd-9a15-0bf5eead1627",
   "metadata": {},
   "source": [
    "This allows the object to take different forms and do things outside the scope of parent class "
   ]
  },
  {
   "cell_type": "markdown",
   "id": "b1b3a390-4636-410c-84a6-798894ec040c",
   "metadata": {},
   "source": [
    "## Method Overriding "
   ]
  },
  {
   "cell_type": "markdown",
   "id": "a7d4e9b2-7f60-43ab-9029-887211fb9c21",
   "metadata": {},
   "source": [
    "It occurs when a child class prvides a specific implementation of a mthod that is already defined in the parent class"
   ]
  },
  {
   "cell_type": "code",
   "execution_count": 117,
   "id": "8d4a8769-3416-40cc-af62-316045dafbef",
   "metadata": {},
   "outputs": [],
   "source": [
    "class Animal :\n",
    "    def sound(self):\n",
    "        print(\"Animal is creating sound\")\n",
    "\n",
    "\n",
    "class Dog(Animal) :\n",
    "    def sound(self) :\n",
    "        print(\"The dog barks\")\n",
    "    \n",
    "class Cat(Animal) :\n",
    "    def sound(self):\n",
    "        print(\"The cat meows\")"
   ]
  },
  {
   "cell_type": "code",
   "execution_count": 118,
   "id": "ee154a2e-bfc6-447f-8058-a4dc861f78d6",
   "metadata": {},
   "outputs": [],
   "source": [
    "cat = Cat()"
   ]
  },
  {
   "cell_type": "code",
   "execution_count": 119,
   "id": "086fd911-df92-4a28-b219-23c46dcfa1f9",
   "metadata": {},
   "outputs": [
    {
     "name": "stdout",
     "output_type": "stream",
     "text": [
      "The cat meows\n"
     ]
    }
   ],
   "source": [
    "cat.sound()"
   ]
  },
  {
   "cell_type": "code",
   "execution_count": 120,
   "id": "bca1dc4b-2080-4b57-943e-d145e6179e8b",
   "metadata": {},
   "outputs": [
    {
     "name": "stdout",
     "output_type": "stream",
     "text": [
      "The dog barks\n"
     ]
    }
   ],
   "source": [
    "dog = Dog()\n",
    "dog.sound()"
   ]
  },
  {
   "cell_type": "markdown",
   "id": "ec5d9f43-c11e-4858-ab76-609a514e263a",
   "metadata": {},
   "source": [
    "# Methode Overloding"
   ]
  },
  {
   "cell_type": "markdown",
   "id": "74034c9e-fd38-4b1a-a2d1-e37ccae785ac",
   "metadata": {},
   "source": [
    "This allows a class to define multiple methods with the same name but different paramenters "
   ]
  },
  {
   "cell_type": "code",
   "execution_count": 123,
   "id": "1d03af45-e731-4f4e-8092-70f787ff1d28",
   "metadata": {},
   "outputs": [],
   "source": [
    "class Calculator:\n",
    "    def add(self, a, b, c = 8):\n",
    "        return a + b + c"
   ]
  },
  {
   "cell_type": "code",
   "execution_count": 124,
   "id": "60597adf-2307-4879-bc84-572978df64aa",
   "metadata": {},
   "outputs": [],
   "source": [
    "calc = Calculator()"
   ]
  },
  {
   "cell_type": "code",
   "execution_count": 125,
   "id": "9f9e83fe-dbb0-4d5c-9147-3604851471e6",
   "metadata": {},
   "outputs": [
    {
     "data": {
      "text/plain": [
       "16"
      ]
     },
     "execution_count": 125,
     "metadata": {},
     "output_type": "execute_result"
    }
   ],
   "source": [
    "calc.add(5, 3)"
   ]
  },
  {
   "cell_type": "code",
   "execution_count": 126,
   "id": "d601d6a3-0468-4310-9a1c-69176af8dcd8",
   "metadata": {},
   "outputs": [
    {
     "data": {
      "text/plain": [
       "18"
      ]
     },
     "execution_count": 126,
     "metadata": {},
     "output_type": "execute_result"
    }
   ],
   "source": [
    "calc.add(5, 3, 10)"
   ]
  },
  {
   "cell_type": "markdown",
   "id": "b80642f7-ddfa-4118-b473-852449c3554c",
   "metadata": {},
   "source": [
    "# Abstraction"
   ]
  },
  {
   "cell_type": "markdown",
   "id": "a0efd23e-1280-468a-8bf6-909d61464c5e",
   "metadata": {},
   "source": [
    "### This is OOP concept . This helps in hiding content of a class and exposes only the essential features and functionality . It only focuses on what an object does than how it does it "
   ]
  },
  {
   "cell_type": "code",
   "execution_count": 129,
   "id": "66ca765b-9f94-4717-9590-7f3a4caab9da",
   "metadata": {},
   "outputs": [],
   "source": [
    "from abc import ABC, abstractmethod\n",
    "\n",
    "## ABC stand for Abstract Base Class\n",
    "\n",
    "class Vehicle(ABC):\n",
    "    @abstractmethod\n",
    "    def start_engine(self):\n",
    "        pass # Since this is an abstract method, no implementation\n",
    "\n",
    "    @abstractmethod\n",
    "    def stop_engine(self):\n",
    "        pass # Since this is an abstract method, no implementation\n",
    "\n",
    "# Create inhritence class\n",
    "class Car(Vehicle):\n",
    "    def start_engine(self):\n",
    "        print(\"Car engine has started!\")\n",
    "\n",
    "    def stop_engine(self):\n",
    "        print(\"Car engine has stopped!\")\n",
    "\n",
    "class Motorcycle(Vehicle):\n",
    "     def start_engine(self):\n",
    "         print(\"Motorcycle engine has started!\")\n",
    "\n",
    "     def stop_engine(self):\n",
    "         print(\"Motorcycle engine has stopped!\")\n"
   ]
  },
  {
   "cell_type": "code",
   "execution_count": 130,
   "id": "daa898a8-f098-48f8-b946-7674b91706e9",
   "metadata": {},
   "outputs": [
    {
     "name": "stdout",
     "output_type": "stream",
     "text": [
      "Car engine has started!\n",
      "Car engine has stopped!\n"
     ]
    }
   ],
   "source": [
    "car = Car()\n",
    "car.start_engine()\n",
    "car.stop_engine()"
   ]
  },
  {
   "cell_type": "code",
   "execution_count": 131,
   "id": "6b0b012c-5239-4f64-893a-712121090f01",
   "metadata": {},
   "outputs": [
    {
     "name": "stdout",
     "output_type": "stream",
     "text": [
      "Motorcycle engine has started!\n",
      "Motorcycle engine has stopped!\n"
     ]
    }
   ],
   "source": [
    "motorcycle = Motorcycle()\n",
    "motorcycle.start_engine()\n",
    "motorcycle.stop_engine()"
   ]
  },
  {
   "cell_type": "markdown",
   "id": "2f906e6b-0f74-4990-8b65-9a8fc2606f41",
   "metadata": {},
   "source": [
    "# Threading"
   ]
  },
  {
   "cell_type": "markdown",
   "id": "7a810b71-ce69-4a1f-92fa-1fa00cc9c16e",
   "metadata": {},
   "source": [
    "### When we want to use parallel computation then we use threading "
   ]
  },
  {
   "cell_type": "code",
   "execution_count": 165,
   "id": "e355c125-d754-4bbe-b254-3e602e0f6a8c",
   "metadata": {},
   "outputs": [
    {
     "name": "stdout",
     "output_type": "stream",
     "text": [
      " Number : 0\n",
      " Number : 0\n",
      " Number : 1 Number : 1\n",
      "\n",
      " Number : 2\n",
      " Number : 2\n",
      " Number : 3 Number : 3\n",
      "\n",
      " Number : 4 Number : 4\n",
      "\n",
      "The threads have executed\n"
     ]
    }
   ],
   "source": [
    "import threading\n",
    "import time\n",
    "\n",
    "def print_numbers():\n",
    "    for i in range(5):\n",
    "        print(f\" Number : {i}\")\n",
    "        time.sleep(1)\n",
    "\n",
    "thread1 = threading.Thread(target = print_numbers)\n",
    "thread2 = threading.Thread(target = print_numbers)\n",
    "\n",
    "thread1.start()\n",
    "thread2.start()\n",
    "\n",
    "thread1.join()\n",
    "thread2.join()\n",
    "\n",
    "print(\"The threads have executed\")"
   ]
  },
  {
   "cell_type": "markdown",
   "id": "9af0da31-f643-405e-9de5-19644272da80",
   "metadata": {},
   "source": [
    "### How to stop the threads from competing?"
   ]
  },
  {
   "cell_type": "code",
   "execution_count": 169,
   "id": "eb38864a-9482-48af-8a9b-f686520b6096",
   "metadata": {},
   "outputs": [
    {
     "name": "stdout",
     "output_type": "stream",
     "text": [
      " Number : 0\n",
      " Number : 1\n",
      " Number : 0\n",
      " Number : 1\n",
      " Number : 2\n",
      " Number : 3\n",
      " Number : 2\n",
      " Number : 4\n",
      " Number : 3\n",
      " Number : 4\n",
      " Number : 5\n",
      " Number : 5\n",
      " Number : 6\n",
      " Number : 6\n",
      " Number : 7\n",
      " Number : 7\n",
      " Number : 8\n",
      " Number : 9\n",
      " Number : 8\n",
      " Number : 9\n",
      "The threads have executed\n"
     ]
    }
   ],
   "source": [
    "import threading\n",
    "import time\n",
    "\n",
    "lock = threading.Lock()\n",
    "\n",
    "def print_numbers():\n",
    "    for i in range(10):\n",
    "        with lock: # This lock ensure that only one thread prints at the same time\n",
    "            print(f\" Number : {i}\")\n",
    "            time.sleep(1)\n",
    "\n",
    "thread1 = threading.Thread(target = print_numbers)\n",
    "thread2 = threading.Thread(target = print_numbers)\n",
    "\n",
    "thread1.start()\n",
    "thread2.start()\n",
    "\n",
    "thread1.join()\n",
    "thread2.join()\n",
    "\n",
    "print(\"The threads have executed\")"
   ]
  },
  {
   "cell_type": "markdown",
   "id": "e0872b0c-854a-437c-b424-dd81964a16c3",
   "metadata": {},
   "source": [
    "# Question 4"
   ]
  },
  {
   "cell_type": "markdown",
   "id": "6b63f794-568f-49ac-8fe2-3677904e2127",
   "metadata": {},
   "source": [
    "#### There are two tasks . One is to print first 5 positive integers  . And other is to print first 5 letters . Write a python program using threading that both of these tasks happen simultaneously .  "
   ]
  },
  {
   "cell_type": "code",
   "execution_count": 175,
   "id": "2fdbf998-fb63-49d2-bd16-7f64fa9a8efc",
   "metadata": {},
   "outputs": [
    {
     "name": "stdout",
     "output_type": "stream",
     "text": [
      " Number : 0\n",
      " Letter : A\n",
      " Number : 1\n",
      " Letter : B\n",
      " Number : 2\n",
      " Number : 3\n",
      " Letter : C\n",
      " Number : 4\n",
      " Letter : D\n",
      " Letter : E\n",
      "The threads have executed\n"
     ]
    }
   ],
   "source": [
    "import threading\n",
    "import time\n",
    "\n",
    "def print_numbers():\n",
    "    for i in range(5):\n",
    "        print(f\" Number : {i}\")\n",
    "        time.sleep(1)\n",
    "\n",
    "def print_letters():\n",
    "    for j in ['A', 'B', 'C', 'D', 'E']:\n",
    "        print(f\" Letter : {j}\")\n",
    "        time.sleep(1.5)\n",
    "        \n",
    "thread1 = threading.Thread(target = print_numbers)\n",
    "thread2 = threading.Thread(target = print_letters)\n",
    "\n",
    "thread1.start()\n",
    "thread2.start()\n",
    "\n",
    "thread1.join()\n",
    "thread2.join()\n",
    "\n",
    "print(\"The threads have executed\")"
   ]
  },
  {
   "cell_type": "markdown",
   "id": "a74c1b25-1040-47a8-bf7a-d3425c3da68c",
   "metadata": {},
   "source": [
    "# Encapsulation"
   ]
  },
  {
   "cell_type": "markdown",
   "id": "143d4ee6-533b-43a5-9d78-24cef73f71ae",
   "metadata": {},
   "source": [
    "### Encapsulation is making things (attributs, methods) inside the class private "
   ]
  },
  {
   "cell_type": "code",
   "execution_count": 180,
   "id": "8492fdf6-b5ff-4d42-b58a-81039b00e2e1",
   "metadata": {},
   "outputs": [],
   "source": [
    "class Employee:\n",
    "    def __init__(self, name):\n",
    "        self.__name = name # This a Private Variable\n",
    "\n",
    "    def get_name(self): # Getter method to get its Private Variable\n",
    "        return self.__name\n",
    "\n",
    "    def set_name(self, name): # Setter method to modify its Private Variable\n",
    "        self.__name = name"
   ]
  },
  {
   "cell_type": "code",
   "execution_count": 182,
   "id": "2a0af2e2-74d8-4cf7-bad4-a09cafe001af",
   "metadata": {},
   "outputs": [],
   "source": [
    "employee = Employee(\"Joel\")"
   ]
  },
  {
   "cell_type": "code",
   "execution_count": 184,
   "id": "ca0370a2-f56d-450b-aa88-5f4b182cf2ff",
   "metadata": {},
   "outputs": [
    {
     "data": {
      "text/plain": [
       "'Joel'"
      ]
     },
     "execution_count": 184,
     "metadata": {},
     "output_type": "execute_result"
    }
   ],
   "source": [
    "employee.get_name()"
   ]
  },
  {
   "cell_type": "code",
   "execution_count": 186,
   "id": "06584f38-1e43-4dc8-a4fb-58a6f4f29cfb",
   "metadata": {},
   "outputs": [],
   "source": [
    "employee.set_name(\"Alvine\")"
   ]
  },
  {
   "cell_type": "code",
   "execution_count": 188,
   "id": "5ed653b4-b7a1-4b15-a47f-1fa0223fc2a2",
   "metadata": {},
   "outputs": [
    {
     "data": {
      "text/plain": [
       "'Alvine'"
      ]
     },
     "execution_count": 188,
     "metadata": {},
     "output_type": "execute_result"
    }
   ],
   "source": [
    "employee.get_name()"
   ]
  },
  {
   "cell_type": "code",
   "execution_count": null,
   "id": "bb23b10d-d6c4-496b-8de2-b8027c0ebe6f",
   "metadata": {},
   "outputs": [],
   "source": []
  }
 ],
 "metadata": {
  "kernelspec": {
   "display_name": "Python 3 (ipykernel)",
   "language": "python",
   "name": "python3"
  },
  "language_info": {
   "codemirror_mode": {
    "name": "ipython",
    "version": 3
   },
   "file_extension": ".py",
   "mimetype": "text/x-python",
   "name": "python",
   "nbconvert_exporter": "python",
   "pygments_lexer": "ipython3",
   "version": "3.12.4"
  }
 },
 "nbformat": 4,
 "nbformat_minor": 5
}
