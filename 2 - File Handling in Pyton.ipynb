{
 "cells": [
  {
   "cell_type": "markdown",
   "id": "42bcb71b-1593-4b8a-a209-1149b0955c78",
   "metadata": {},
   "source": [
    "# File Handling in Pyton"
   ]
  },
  {
   "cell_type": "markdown",
   "id": "c7056546-99d4-4a8b-adf6-703154b50e67",
   "metadata": {},
   "source": [
    "## Writing in file"
   ]
  },
  {
   "cell_type": "code",
   "execution_count": 13,
   "id": "4777123b-1b46-455a-ac6f-e7d3968333e6",
   "metadata": {},
   "outputs": [],
   "source": [
    "file = open('example.txt', 'w')"
   ]
  },
  {
   "cell_type": "code",
   "execution_count": 15,
   "id": "aecb1675-80e1-47c1-b55b-273f01811e59",
   "metadata": {},
   "outputs": [],
   "source": [
    "file.write(\"Hi! Yannick, how are you doing today body ?\")\n",
    "file.close()"
   ]
  },
  {
   "cell_type": "markdown",
   "id": "dbca0aa6-1d87-4267-9cdb-a5a017073d64",
   "metadata": {},
   "source": [
    "## Appending"
   ]
  },
  {
   "cell_type": "code",
   "execution_count": 18,
   "id": "213e9998-9f19-429f-8a02-d4a8c9b25780",
   "metadata": {},
   "outputs": [],
   "source": [
    "file = open('example.txt', 'a')\n",
    "file.write(\"\\n Hey so what are we doing here?\")\n",
    "file.close()"
   ]
  },
  {
   "cell_type": "markdown",
   "id": "de225f37-ed0a-4d6a-8b7a-a04e9369216f",
   "metadata": {},
   "source": [
    "## Reading"
   ]
  },
  {
   "cell_type": "code",
   "execution_count": 21,
   "id": "2b094d8d-b990-4da4-9f1a-3463a18fecfa",
   "metadata": {},
   "outputs": [
    {
     "name": "stdout",
     "output_type": "stream",
     "text": [
      "Hi! Yannick, how are you doing today body ?\n",
      " Hey so what are we doing here?\n"
     ]
    }
   ],
   "source": [
    "file = open('example.txt', 'r')\n",
    "content = file.read()\n",
    "\n",
    "print(content)\n",
    "file.close()"
   ]
  },
  {
   "cell_type": "markdown",
   "id": "89413d74-9f93-4956-b3cd-7ba58109d501",
   "metadata": {},
   "source": [
    "## Reading File Line-by-Line"
   ]
  },
  {
   "cell_type": "code",
   "execution_count": 41,
   "id": "30a6d161-e1fe-4ea2-ba22-976b3af46e92",
   "metadata": {},
   "outputs": [],
   "source": [
    "import os"
   ]
  },
  {
   "cell_type": "code",
   "execution_count": 43,
   "id": "d97c533f-2e93-49d1-8574-4c8c53fa496e",
   "metadata": {},
   "outputs": [
    {
     "data": {
      "text/plain": [
       "'/Users/yannickyemo/Documents/Learning/Programming/Python for Data Science'"
      ]
     },
     "execution_count": 43,
     "metadata": {},
     "output_type": "execute_result"
    }
   ],
   "source": [
    "os.getcwd()"
   ]
  },
  {
   "cell_type": "code",
   "execution_count": 47,
   "id": "1f427f43-50e8-4ad3-b9a6-9c85e68c20ce",
   "metadata": {},
   "outputs": [
    {
     "name": "stdout",
     "output_type": "stream",
     "text": [
      "['Hi! Yannick, how are you doing today body ?\\n', ' Hey so what are we doing here?']\n"
     ]
    }
   ],
   "source": [
    "file = open('example.txt', 'r')\n",
    "lines = file.readlines()\n",
    "\n",
    "print(lines)\n",
    "file.close()"
   ]
  },
  {
   "cell_type": "code",
   "execution_count": 52,
   "id": "d83f62f7-9b1e-4799-9f0b-bad95743c4ab",
   "metadata": {},
   "outputs": [
    {
     "name": "stdout",
     "output_type": "stream",
     "text": [
      "Collecting sklearn\n",
      "  Using cached sklearn-0.0.post12.tar.gz (2.6 kB)\n",
      "  Preparing metadata (setup.py) ... \u001b[?25lerror\n",
      "  \u001b[1;31merror\u001b[0m: \u001b[1msubprocess-exited-with-error\u001b[0m\n",
      "  \n",
      "  \u001b[31m×\u001b[0m \u001b[32mpython setup.py egg_info\u001b[0m did not run successfully.\n",
      "  \u001b[31m│\u001b[0m exit code: \u001b[1;36m1\u001b[0m\n",
      "  \u001b[31m╰─>\u001b[0m \u001b[31m[15 lines of output]\u001b[0m\n",
      "  \u001b[31m   \u001b[0m The 'sklearn' PyPI package is deprecated, use 'scikit-learn'\n",
      "  \u001b[31m   \u001b[0m rather than 'sklearn' for pip commands.\n",
      "  \u001b[31m   \u001b[0m \n",
      "  \u001b[31m   \u001b[0m Here is how to fix this error in the main use cases:\n",
      "  \u001b[31m   \u001b[0m - use 'pip install scikit-learn' rather than 'pip install sklearn'\n",
      "  \u001b[31m   \u001b[0m - replace 'sklearn' by 'scikit-learn' in your pip requirements files\n",
      "  \u001b[31m   \u001b[0m   (requirements.txt, setup.py, setup.cfg, Pipfile, etc ...)\n",
      "  \u001b[31m   \u001b[0m - if the 'sklearn' package is used by one of your dependencies,\n",
      "  \u001b[31m   \u001b[0m   it would be great if you take some time to track which package uses\n",
      "  \u001b[31m   \u001b[0m   'sklearn' instead of 'scikit-learn' and report it to their issue tracker\n",
      "  \u001b[31m   \u001b[0m - as a last resort, set the environment variable\n",
      "  \u001b[31m   \u001b[0m   SKLEARN_ALLOW_DEPRECATED_SKLEARN_PACKAGE_INSTALL=True to avoid this error\n",
      "  \u001b[31m   \u001b[0m \n",
      "  \u001b[31m   \u001b[0m More information is available at\n",
      "  \u001b[31m   \u001b[0m https://github.com/scikit-learn/sklearn-pypi-package\n",
      "  \u001b[31m   \u001b[0m \u001b[31m[end of output]\u001b[0m\n",
      "  \n",
      "  \u001b[1;35mnote\u001b[0m: This error originates from a subprocess, and is likely not a problem with pip.\n",
      "\u001b[1;31merror\u001b[0m: \u001b[1mmetadata-generation-failed\u001b[0m\n",
      "\n",
      "\u001b[31m×\u001b[0m Encountered error while generating package metadata.\n",
      "\u001b[31m╰─>\u001b[0m See above for output.\n",
      "\n",
      "\u001b[1;35mnote\u001b[0m: This is an issue with the package mentioned above, not pip.\n",
      "\u001b[1;36mhint\u001b[0m: See above for details.\n",
      "\u001b[?25h"
     ]
    }
   ],
   "source": [
    "! pip install sklearn"
   ]
  },
  {
   "cell_type": "code",
   "execution_count": 54,
   "id": "32b46b15-5e54-4422-b081-fbc2a68460b4",
   "metadata": {},
   "outputs": [
    {
     "name": "stdout",
     "output_type": "stream",
     "text": [
      "ERROR: unknown command \"scikit-learn\"\n"
     ]
    }
   ],
   "source": [
    "!pip scikit-learn"
   ]
  },
  {
   "cell_type": "code",
   "execution_count": 56,
   "id": "3ef7e524-6068-470f-b9d4-09c0ec76b29a",
   "metadata": {},
   "outputs": [
    {
     "name": "stdout",
     "output_type": "stream",
     "text": [
      "Requirement already satisfied: scikit-learn in /opt/anaconda3/lib/python3.12/site-packages (1.4.2)\n",
      "Requirement already satisfied: numpy>=1.19.5 in /opt/anaconda3/lib/python3.12/site-packages (from scikit-learn) (1.26.4)\n",
      "Requirement already satisfied: scipy>=1.6.0 in /opt/anaconda3/lib/python3.12/site-packages (from scikit-learn) (1.13.1)\n",
      "Requirement already satisfied: joblib>=1.2.0 in /opt/anaconda3/lib/python3.12/site-packages (from scikit-learn) (1.4.2)\n",
      "Requirement already satisfied: threadpoolctl>=2.0.0 in /opt/anaconda3/lib/python3.12/site-packages (from scikit-learn) (2.2.0)\n"
     ]
    }
   ],
   "source": [
    "!pip install scikit-learn"
   ]
  },
  {
   "cell_type": "markdown",
   "id": "9426fede-b468-42dd-b404-a2c83670fde8",
   "metadata": {},
   "source": [
    "## Write a File Line-by-Line "
   ]
  },
  {
   "cell_type": "code",
   "execution_count": 63,
   "id": "c59f1ca5-10cd-41a0-a07f-c57d10de7c4b",
   "metadata": {},
   "outputs": [],
   "source": [
    "file = open('example.txt', 'w')\n",
    "file.write('My name is Yannick\\n')\n",
    "\n",
    "lines = ['First Line\\n', 'Second Line\\n']\n",
    "file.writelines(lines)\n",
    "file.close()"
   ]
  },
  {
   "cell_type": "code",
   "execution_count": 67,
   "id": "b8c5010e-84fb-47de-837d-b6bd42452f0a",
   "metadata": {},
   "outputs": [
    {
     "name": "stdout",
     "output_type": "stream",
     "text": [
      "My name is Yannick\n",
      "First Line\n",
      "Second Line\n",
      "\n"
     ]
    }
   ],
   "source": [
    "file = open('example.txt', 'r')\n",
    "content = file.read()\n",
    "print(content)\n",
    "file.close()"
   ]
  },
  {
   "cell_type": "code",
   "execution_count": null,
   "id": "f121d887-2b75-48e6-95d1-a544b0537f4d",
   "metadata": {},
   "outputs": [],
   "source": []
  },
  {
   "cell_type": "code",
   "execution_count": null,
   "id": "e0a32928-afd6-4e40-8441-3cc5e271564a",
   "metadata": {},
   "outputs": [],
   "source": []
  }
 ],
 "metadata": {
  "kernelspec": {
   "display_name": "Python 3 (ipykernel)",
   "language": "python",
   "name": "python3"
  },
  "language_info": {
   "codemirror_mode": {
    "name": "ipython",
    "version": 3
   },
   "file_extension": ".py",
   "mimetype": "text/x-python",
   "name": "python",
   "nbconvert_exporter": "python",
   "pygments_lexer": "ipython3",
   "version": "3.12.4"
  }
 },
 "nbformat": 4,
 "nbformat_minor": 5
}
