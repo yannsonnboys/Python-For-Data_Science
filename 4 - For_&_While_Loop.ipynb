{
 "cells": [
  {
   "cell_type": "markdown",
   "id": "998becc2-e113-4034-a1ec-2ae8f91038c9",
   "metadata": {},
   "source": [
    "# Loop"
   ]
  },
  {
   "cell_type": "markdown",
   "id": "f780425d-348b-465a-8702-a5d0ba943b4d",
   "metadata": {},
   "source": [
    "## For Loop"
   ]
  },
  {
   "cell_type": "code",
   "execution_count": 3,
   "id": "27cc53fc-5d72-4603-b8a6-3021865ea909",
   "metadata": {},
   "outputs": [
    {
     "name": "stdout",
     "output_type": "stream",
     "text": [
      "This year is 2024\n",
      "This year is 2025\n",
      "This year is 2026\n",
      "This year is 2027\n",
      "This year is 2028\n"
     ]
    }
   ],
   "source": [
    "print('This year is 2024')\n",
    "print('This year is 2025')\n",
    "print('This year is 2026')\n",
    "print('This year is 2027')\n",
    "print('This year is 2028')"
   ]
  },
  {
   "cell_type": "code",
   "execution_count": 5,
   "id": "b5ad9391-035a-408a-9184-57286365bd59",
   "metadata": {},
   "outputs": [],
   "source": [
    "list1 = [2024, 2025, 2026, 2027, 2028]"
   ]
  },
  {
   "cell_type": "code",
   "execution_count": 7,
   "id": "3a9b0efe-4142-49c4-b8f4-a44badc1c06b",
   "metadata": {},
   "outputs": [
    {
     "data": {
      "text/plain": [
       "2024"
      ]
     },
     "execution_count": 7,
     "metadata": {},
     "output_type": "execute_result"
    }
   ],
   "source": [
    "list1[0]"
   ]
  },
  {
   "cell_type": "code",
   "execution_count": 9,
   "id": "b45ea016-99f9-447c-ba2b-a69f0ad78643",
   "metadata": {},
   "outputs": [
    {
     "data": {
      "text/plain": [
       "2027"
      ]
     },
     "execution_count": 9,
     "metadata": {},
     "output_type": "execute_result"
    }
   ],
   "source": [
    "list1[3]"
   ]
  },
  {
   "cell_type": "code",
   "execution_count": 11,
   "id": "daf23b72-d3f3-4f6d-9460-9db0a5066ad3",
   "metadata": {},
   "outputs": [
    {
     "data": {
      "text/plain": [
       "2024"
      ]
     },
     "execution_count": 11,
     "metadata": {},
     "output_type": "execute_result"
    }
   ],
   "source": [
    "list1[0]"
   ]
  },
  {
   "cell_type": "code",
   "execution_count": 13,
   "id": "1723d831-a918-411e-b573-5124ebd905a9",
   "metadata": {},
   "outputs": [
    {
     "data": {
      "text/plain": [
       "2025"
      ]
     },
     "execution_count": 13,
     "metadata": {},
     "output_type": "execute_result"
    }
   ],
   "source": [
    "list1[1]"
   ]
  },
  {
   "cell_type": "code",
   "execution_count": 15,
   "id": "30ba4100-451f-4d25-8c81-3f092d2c77cc",
   "metadata": {},
   "outputs": [
    {
     "data": {
      "text/plain": [
       "2027"
      ]
     },
     "execution_count": 15,
     "metadata": {},
     "output_type": "execute_result"
    }
   ],
   "source": [
    "list1[3]"
   ]
  },
  {
   "cell_type": "code",
   "execution_count": 17,
   "id": "aa2a74e7-3e3d-4139-87bd-198c6acb9740",
   "metadata": {},
   "outputs": [
    {
     "data": {
      "text/plain": [
       "2028"
      ]
     },
     "execution_count": 17,
     "metadata": {},
     "output_type": "execute_result"
    }
   ],
   "source": [
    "list1[4]"
   ]
  },
  {
   "cell_type": "code",
   "execution_count": 21,
   "id": "d9506004-fb26-46c1-9201-345a73058069",
   "metadata": {},
   "outputs": [
    {
     "data": {
      "text/plain": [
       "2025"
      ]
     },
     "execution_count": 21,
     "metadata": {},
     "output_type": "execute_result"
    }
   ],
   "source": [
    "list1[-4]"
   ]
  },
  {
   "cell_type": "code",
   "execution_count": 23,
   "id": "047dc6d3-7944-4871-9515-866db627194c",
   "metadata": {},
   "outputs": [
    {
     "data": {
      "text/plain": [
       "2028"
      ]
     },
     "execution_count": 23,
     "metadata": {},
     "output_type": "execute_result"
    }
   ],
   "source": [
    "list1[-1]"
   ]
  },
  {
   "cell_type": "code",
   "execution_count": 25,
   "id": "c9646a1c-46af-4604-b85b-ee9e5c0f1112",
   "metadata": {},
   "outputs": [
    {
     "data": {
      "text/plain": [
       "2027"
      ]
     },
     "execution_count": 25,
     "metadata": {},
     "output_type": "execute_result"
    }
   ],
   "source": [
    "list1[-2]"
   ]
  },
  {
   "cell_type": "code",
   "execution_count": 27,
   "id": "55cd16e1-d0cf-48f8-a924-882d96d905c3",
   "metadata": {},
   "outputs": [
    {
     "data": {
      "text/plain": [
       "2026"
      ]
     },
     "execution_count": 27,
     "metadata": {},
     "output_type": "execute_result"
    }
   ],
   "source": [
    "list1[-3]"
   ]
  },
  {
   "cell_type": "code",
   "execution_count": 29,
   "id": "cdc54ae9-cfcd-470b-a3e2-a2117e25d715",
   "metadata": {},
   "outputs": [
    {
     "data": {
      "text/plain": [
       "2024"
      ]
     },
     "execution_count": 29,
     "metadata": {},
     "output_type": "execute_result"
    }
   ],
   "source": [
    "list1[-5]"
   ]
  },
  {
   "cell_type": "markdown",
   "id": "17ea1a50-fa5c-4827-b412-327321275f17",
   "metadata": {},
   "source": [
    "## Length"
   ]
  },
  {
   "cell_type": "code",
   "execution_count": 34,
   "id": "3c9caf69-de23-46fd-b488-7ba1fb339665",
   "metadata": {},
   "outputs": [],
   "source": [
    "length = len(list1)"
   ]
  },
  {
   "cell_type": "code",
   "execution_count": 36,
   "id": "b7a7b93a-fc09-4d92-b3aa-b3250189e178",
   "metadata": {},
   "outputs": [
    {
     "name": "stdout",
     "output_type": "stream",
     "text": [
      "5\n"
     ]
    }
   ],
   "source": [
    "print(length)"
   ]
  },
  {
   "cell_type": "code",
   "execution_count": 38,
   "id": "5225ff29-e3bb-479c-9716-a33566467cff",
   "metadata": {},
   "outputs": [
    {
     "data": {
      "text/plain": [
       "2028"
      ]
     },
     "execution_count": 38,
     "metadata": {},
     "output_type": "execute_result"
    }
   ],
   "source": [
    "list1[length-1]"
   ]
  },
  {
   "cell_type": "markdown",
   "id": "f9e95495-8ac2-4725-b59b-a8590c8b331a",
   "metadata": {},
   "source": [
    "## Use the For Loop"
   ]
  },
  {
   "cell_type": "code",
   "execution_count": 42,
   "id": "299ded8d-ff03-46d5-96b0-1f3a3a875d07",
   "metadata": {},
   "outputs": [
    {
     "name": "stdout",
     "output_type": "stream",
     "text": [
      "This year is  2024\n",
      "This year is  2025\n",
      "This year is  2026\n",
      "This year is  2027\n",
      "This year is  2028\n"
     ]
    }
   ],
   "source": [
    "for num in list1 :\n",
    "    print('This year is ', num)"
   ]
  },
  {
   "cell_type": "code",
   "execution_count": 44,
   "id": "b8e650fd-8454-4c86-8c05-b3b0b032d5d3",
   "metadata": {},
   "outputs": [],
   "source": [
    "fruits = ['apple', 'banana' , 'grapes' , 'guava' , 'oranges']"
   ]
  },
  {
   "cell_type": "code",
   "execution_count": 46,
   "id": "5cb8c4aa-e864-487d-8a3a-655f3945944c",
   "metadata": {},
   "outputs": [
    {
     "name": "stdout",
     "output_type": "stream",
     "text": [
      "You have  apple\n",
      "You have  banana\n",
      "You have  grapes\n",
      "You have  guava\n",
      "You have  oranges\n"
     ]
    }
   ],
   "source": [
    "for type_of_fruit in fruits :\n",
    "    print(\"You have \", type_of_fruit)"
   ]
  },
  {
   "cell_type": "markdown",
   "id": "9e315349-7912-4f5f-8258-78319ff23eff",
   "metadata": {},
   "source": [
    "## Range of number"
   ]
  },
  {
   "cell_type": "code",
   "execution_count": 49,
   "id": "d814ac87-c116-4361-8d9e-a80faeb58531",
   "metadata": {},
   "outputs": [],
   "source": [
    "list2 = [2022, 2023, 2024, 2025, 2026]"
   ]
  },
  {
   "cell_type": "code",
   "execution_count": 51,
   "id": "60386044-03bc-4451-ac00-7bbbdefab982",
   "metadata": {},
   "outputs": [
    {
     "data": {
      "text/plain": [
       "[2022, 2023, 2024, 2025, 2026]"
      ]
     },
     "execution_count": 51,
     "metadata": {},
     "output_type": "execute_result"
    }
   ],
   "source": [
    "list2"
   ]
  },
  {
   "cell_type": "code",
   "execution_count": 55,
   "id": "b6772c46-4634-43a9-bbb2-6979c769a90d",
   "metadata": {},
   "outputs": [
    {
     "data": {
      "text/plain": [
       "[2022, 2023, 2024, 2025]"
      ]
     },
     "execution_count": 55,
     "metadata": {},
     "output_type": "execute_result"
    }
   ],
   "source": [
    "list(range(2022, 2026))"
   ]
  },
  {
   "cell_type": "code",
   "execution_count": 61,
   "id": "ef912843-1978-453a-9f20-80088ee2ae80",
   "metadata": {},
   "outputs": [
    {
     "name": "stdout",
     "output_type": "stream",
     "text": [
      "This year is  2022\n",
      "This year is  2023\n",
      "This year is  2024\n",
      "This year is  2025\n"
     ]
    }
   ],
   "source": [
    "for year in range(2022, 2026):\n",
    "    print(\"This year is \", year)"
   ]
  },
  {
   "cell_type": "code",
   "execution_count": null,
   "id": "dce52cd4-5ab8-427a-bb1e-89613baa38c8",
   "metadata": {},
   "outputs": [],
   "source": []
  },
  {
   "cell_type": "code",
   "execution_count": 63,
   "id": "04ad891d-a17a-4681-a22b-3be01b2ebcee",
   "metadata": {},
   "outputs": [
    {
     "name": "stdout",
     "output_type": "stream",
     "text": [
      "This year is  2022\n",
      "This year is  2022\n",
      "This year is  2022\n",
      "This year is  2022\n"
     ]
    }
   ],
   "source": [
    "year = 2022\n",
    "for i in range(0, 4):\n",
    "    print(\"This year is \", year)"
   ]
  },
  {
   "cell_type": "code",
   "execution_count": 65,
   "id": "278a1349-bfc4-4110-8aea-c0f78a3943af",
   "metadata": {},
   "outputs": [
    {
     "name": "stdout",
     "output_type": "stream",
     "text": [
      "This year is  2022\n",
      "This year is  2023\n",
      "This year is  2024\n",
      "This year is  2025\n"
     ]
    }
   ],
   "source": [
    "year = 2022\n",
    "for i in range(0, 4):\n",
    "    print(\"This year is \", year)\n",
    "    year = year + 1"
   ]
  },
  {
   "cell_type": "code",
   "execution_count": 67,
   "id": "f166260a-2319-42be-9c3d-b6d280ad1944",
   "metadata": {},
   "outputs": [
    {
     "name": "stdout",
     "output_type": "stream",
     "text": [
      "This year is  2022\n",
      "This year is  2023\n",
      "This year is  2024\n",
      "This year is  2025\n"
     ]
    }
   ],
   "source": [
    "year = 2022\n",
    "for i in range(0, 4):\n",
    "    print(\"This year is \", year)\n",
    "    year += 1"
   ]
  },
  {
   "cell_type": "code",
   "execution_count": 69,
   "id": "13120af6-ea40-4f21-9d1f-276f66e1f716",
   "metadata": {},
   "outputs": [
    {
     "name": "stdout",
     "output_type": "stream",
     "text": [
      "This year is 2024\n",
      "This year is 2025\n",
      "This year is 2026\n",
      "This year is 2027\n",
      "This year is 2028\n"
     ]
    }
   ],
   "source": [
    "for num in list1:\n",
    "    print(\"This year is\", num)"
   ]
  },
  {
   "cell_type": "code",
   "execution_count": 71,
   "id": "73f45b6e-e22e-4c6d-9e79-86e86dcabea6",
   "metadata": {},
   "outputs": [
    {
     "name": "stdout",
     "output_type": "stream",
     "text": [
      "This year is  2022\n",
      "This year is  2023\n",
      "This year is  2024\n",
      "This year is  2025\n"
     ]
    }
   ],
   "source": [
    "for num in range(2022, 2026):\n",
    "    print(\"This year is \", num)"
   ]
  },
  {
   "cell_type": "markdown",
   "id": "53337ba6-deaf-4480-9713-69553229860b",
   "metadata": {},
   "source": [
    "## Get the number from the usre"
   ]
  },
  {
   "cell_type": "code",
   "execution_count": 76,
   "id": "ba96b49f-1a40-4555-9150-aba10a6d5da4",
   "metadata": {},
   "outputs": [
    {
     "name": "stdin",
     "output_type": "stream",
     "text": [
      "Enter a number 4\n"
     ]
    },
    {
     "name": "stdout",
     "output_type": "stream",
     "text": [
      "4*1 = 4\n",
      "4*2 = 8\n",
      "4*3 = 12\n",
      "4*4 = 16\n",
      "4*5 = 20\n",
      "4*6 = 24\n",
      "4*7 = 28\n",
      "4*8 = 32\n",
      "4*9 = 36\n",
      "4*10 = 40\n",
      "4*11 = 44\n",
      "4*12 = 48\n",
      "4*13 = 52\n",
      "4*14 = 56\n"
     ]
    }
   ],
   "source": [
    "num = int(input(\"Enter a number\"))\n",
    "\n",
    "for i in range(1, 15):\n",
    "    print(f\"{num}*{i} = {num * i}\")"
   ]
  },
  {
   "cell_type": "code",
   "execution_count": 78,
   "id": "3e46c174-eb2c-4c7b-bfe0-7a80a914d94d",
   "metadata": {},
   "outputs": [
    {
     "name": "stdin",
     "output_type": "stream",
     "text": [
      "Enter a number 20\n"
     ]
    },
    {
     "name": "stdout",
     "output_type": "stream",
     "text": [
      "20*1 = 20\n",
      "20*2 = 40\n",
      "20*3 = 60\n",
      "20*4 = 80\n",
      "20*5 = 100\n",
      "20*6 = 120\n",
      "20*7 = 140\n",
      "20*8 = 160\n",
      "20*9 = 180\n",
      "20*10 = 200\n",
      "20*11 = 220\n",
      "20*12 = 240\n",
      "20*13 = 260\n",
      "20*14 = 280\n"
     ]
    }
   ],
   "source": [
    "num = int(input(\"Enter a number\"))\n",
    "\n",
    "for i in range(1, 15):\n",
    "    print(f\"{num}*{i} = {num * i}\")"
   ]
  },
  {
   "cell_type": "markdown",
   "id": "0725e9e2-5d24-4340-8e19-50b30b4d9b80",
   "metadata": {},
   "source": [
    "#### Write a pytho program to find the sum of all even numbers from 1 to 50 "
   ]
  },
  {
   "cell_type": "code",
   "execution_count": 86,
   "id": "43688e80-a2f6-4ab6-98c2-87136167087d",
   "metadata": {},
   "outputs": [
    {
     "name": "stdout",
     "output_type": "stream",
     "text": [
      "Th total sum of the even numbers is 650\n"
     ]
    }
   ],
   "source": [
    "total_num = 0\n",
    "\n",
    "for num in range(1, 51):\n",
    "    if num % 2 == 0:\n",
    "        total_num += num\n",
    "    else:\n",
    "        pass\n",
    "print(f\"Th total sum of the even numbers is {total_num}\")"
   ]
  },
  {
   "cell_type": "markdown",
   "id": "c09c573b-b525-4bb6-8ffb-72f900f5b00e",
   "metadata": {},
   "source": [
    "#### Find the factorial of a number . Take the input from the user "
   ]
  },
  {
   "cell_type": "code",
   "execution_count": 91,
   "id": "164d500c-3e5c-4ee7-8b96-b35b1577ac8e",
   "metadata": {},
   "outputs": [
    {
     "name": "stdin",
     "output_type": "stream",
     "text": [
      "Enter any number:  2\n"
     ]
    },
    {
     "name": "stdout",
     "output_type": "stream",
     "text": [
      "2\n"
     ]
    }
   ],
   "source": [
    "var = int(input(\"Enter any number: \"))\n",
    "num = 1\n",
    "\n",
    "for i in range(1, var + 1):\n",
    "    num = num * i\n",
    "print(num)"
   ]
  },
  {
   "cell_type": "code",
   "execution_count": 93,
   "id": "5e2a40b7-09dd-44d4-b90f-fe4f6d74316a",
   "metadata": {},
   "outputs": [
    {
     "name": "stdin",
     "output_type": "stream",
     "text": [
      "Enter any number:  4\n"
     ]
    },
    {
     "name": "stdout",
     "output_type": "stream",
     "text": [
      "24\n"
     ]
    }
   ],
   "source": [
    "var = int(input(\"Enter any number: \"))\n",
    "num = 1\n",
    "\n",
    "for i in range(1, var + 1):\n",
    "    num *= i\n",
    "print(num)"
   ]
  },
  {
   "cell_type": "code",
   "execution_count": 95,
   "id": "63062306-8e65-40fd-b7de-63e92c50f480",
   "metadata": {},
   "outputs": [
    {
     "name": "stdin",
     "output_type": "stream",
     "text": [
      "Enter any number:  5\n"
     ]
    },
    {
     "name": "stdout",
     "output_type": "stream",
     "text": [
      "120\n"
     ]
    }
   ],
   "source": [
    "var = int(input(\"Enter any number: \"))\n",
    "num = 1\n",
    "\n",
    "for i in range(1, var + 1):\n",
    "    num *= i\n",
    "print(num)"
   ]
  },
  {
   "cell_type": "markdown",
   "id": "013c14a4-628b-40f9-bf6c-471ea516a51f",
   "metadata": {},
   "source": [
    "# While Loop"
   ]
  },
  {
   "cell_type": "code",
   "execution_count": null,
   "id": "2486308e-5814-49cc-b661-fd553530f591",
   "metadata": {},
   "outputs": [],
   "source": [
    "# while condition:\n",
    "#    Do something    "
   ]
  },
  {
   "cell_type": "code",
   "execution_count": 100,
   "id": "a02ee7d8-622e-4978-b07f-75e02c1e5712",
   "metadata": {},
   "outputs": [
    {
     "name": "stdout",
     "output_type": "stream",
     "text": [
      "1\n",
      "2\n",
      "3\n",
      "4\n",
      "5\n"
     ]
    }
   ],
   "source": [
    "counter = 1\n",
    "\n",
    "while counter <= 5:\n",
    "    print(counter)\n",
    "    counter += 1"
   ]
  },
  {
   "cell_type": "code",
   "execution_count": 110,
   "id": "e97e58c7-824c-4596-bc23-4318bb80f1de",
   "metadata": {},
   "outputs": [
    {
     "name": "stdin",
     "output_type": "stream",
     "text": [
      "Enter natural number:  55\n"
     ]
    }
   ],
   "source": [
    "# Sum of Natural Number upto given number\n",
    "n = int(input(\"Enter natural number: \"))"
   ]
  },
  {
   "cell_type": "code",
   "execution_count": 112,
   "id": "d25eadad-c566-4722-9945-acb289f5e794",
   "metadata": {},
   "outputs": [
    {
     "name": "stdout",
     "output_type": "stream",
     "text": [
      "The sum is:  55\n"
     ]
    }
   ],
   "source": [
    "total_sum = 0\n",
    "i = 1\n",
    "\n",
    "while i <= n :\n",
    "    total_sum += 1\n",
    "    i += 1\n",
    "print(\"The sum is: \", total_sum)"
   ]
  },
  {
   "cell_type": "code",
   "execution_count": 114,
   "id": "4d1a5cd8-9ad0-445d-bfef-6d3d8de81ebd",
   "metadata": {},
   "outputs": [
    {
     "name": "stdout",
     "output_type": "stream",
     "text": [
      "The first number divisble by both 3 and 7 is:  21\n"
     ]
    }
   ],
   "source": [
    "# Find out the first number which is divisible by 3 and 7\n",
    "num = 1\n",
    "\n",
    "while True:\n",
    "    if num % 3 == 0 and num % 7 == 0:\n",
    "        print(\"The first number divisble by both 3 and 7 is: \", num)\n",
    "        break\n",
    "    num += 1"
   ]
  },
  {
   "cell_type": "code",
   "execution_count": 116,
   "id": "290f9a54-38c6-4606-b422-f8303b1cc95f",
   "metadata": {},
   "outputs": [
    {
     "name": "stdin",
     "output_type": "stream",
     "text": [
      "Enter a positive number: -1\n",
      "Enter a positive number: -29\n",
      "Enter a positive number: 10\n"
     ]
    },
    {
     "name": "stdout",
     "output_type": "stream",
     "text": [
      "The number that you entered is:  10\n"
     ]
    }
   ],
   "source": [
    "# asking for input until a number is posisitive\n",
    "num = 0\n",
    "\n",
    "while num <= 0 :\n",
    "    num = int(input(\"Enter a positive number:\"))\n",
    "print(\"The number that you entered is: \", num)"
   ]
  },
  {
   "cell_type": "code",
   "execution_count": null,
   "id": "e88230a3-9a3e-4493-b0e4-e174e5c798bb",
   "metadata": {},
   "outputs": [],
   "source": []
  },
  {
   "cell_type": "code",
   "execution_count": null,
   "id": "30c9c451-5a47-4772-b176-8ff04ede4a8d",
   "metadata": {},
   "outputs": [],
   "source": []
  },
  {
   "cell_type": "code",
   "execution_count": null,
   "id": "159b32ec-af60-45ae-a4c6-84aa69c3b83c",
   "metadata": {},
   "outputs": [],
   "source": []
  },
  {
   "cell_type": "code",
   "execution_count": null,
   "id": "f4c6b339-e26b-4276-8b1e-4d7ffaec4bc8",
   "metadata": {},
   "outputs": [],
   "source": []
  },
  {
   "cell_type": "code",
   "execution_count": null,
   "id": "2ad9956c-8eac-4e3c-8163-4c8ac310cd16",
   "metadata": {},
   "outputs": [],
   "source": []
  },
  {
   "cell_type": "code",
   "execution_count": null,
   "id": "fdd0bcb5-b17a-4afb-984c-af5b9ee69b81",
   "metadata": {},
   "outputs": [],
   "source": []
  }
 ],
 "metadata": {
  "kernelspec": {
   "display_name": "Python 3 (ipykernel)",
   "language": "python",
   "name": "python3"
  },
  "language_info": {
   "codemirror_mode": {
    "name": "ipython",
    "version": 3
   },
   "file_extension": ".py",
   "mimetype": "text/x-python",
   "name": "python",
   "nbconvert_exporter": "python",
   "pygments_lexer": "ipython3",
   "version": "3.12.4"
  }
 },
 "nbformat": 4,
 "nbformat_minor": 5
}
