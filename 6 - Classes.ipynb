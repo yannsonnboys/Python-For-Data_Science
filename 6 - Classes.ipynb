{
 "cells": [
  {
   "cell_type": "markdown",
   "id": "1f7cf276-4f9c-4a0b-b70c-caf5edd668e6",
   "metadata": {},
   "source": [
    "# What are classes ?"
   ]
  },
  {
   "cell_type": "markdown",
   "id": "2aa1833d-a305-4525-a132-5f6cc9168d5d",
   "metadata": {},
   "source": [
    "#### A class in python is a blueprint of creating some objects . It defines a set of attributes and methods that the objects are created from the class that we have   "
   ]
  },
  {
   "cell_type": "code",
   "execution_count": 7,
   "id": "c37049db-4625-48fd-b96c-2ba90e243c23",
   "metadata": {},
   "outputs": [],
   "source": [
    "class Car:\n",
    "    pass"
   ]
  },
  {
   "cell_type": "code",
   "execution_count": null,
   "id": "61399120-5856-4aed-8098-e42a5de883e7",
   "metadata": {},
   "outputs": [],
   "source": []
  },
  {
   "cell_type": "markdown",
   "id": "177a35a0-90a1-4e1f-b123-884159712af3",
   "metadata": {},
   "source": [
    "# What is an Object"
   ]
  },
  {
   "cell_type": "markdown",
   "id": "5e707c9a-96b7-4d60-a23e-8466daeae429",
   "metadata": {},
   "source": [
    "#### Objects is a instance of a class . They represent a concrete implementation of class . Multiple objects can be created with the help of same class "
   ]
  },
  {
   "cell_type": "code",
   "execution_count": 9,
   "id": "a2cade20-13e5-4db6-bacd-5854e253de81",
   "metadata": {},
   "outputs": [],
   "source": [
    "my_car = Car()"
   ]
  },
  {
   "cell_type": "markdown",
   "id": "55eb3d7f-b0c6-4323-bc1b-77ef0d7d372d",
   "metadata": {},
   "source": [
    "# Atteribute and Methods of Class"
   ]
  },
  {
   "cell_type": "code",
   "execution_count": 12,
   "id": "d0f862a0-48a7-48eb-ab0e-945c794b8d7f",
   "metadata": {},
   "outputs": [],
   "source": [
    "# Class Car\n",
    "class Car :\n",
    "    def __init__(self, brand, model):\n",
    "        self.brand = brand\n",
    "        self.model = model\n",
    "\n",
    "\n",
    "    def start_engine(self):\n",
    "        print(\"The engine of the car has started!\")\n",
    "        "
   ]
  },
  {
   "cell_type": "code",
   "execution_count": 16,
   "id": "c2ab8787-59e4-4811-9c37-3b7834323d35",
   "metadata": {},
   "outputs": [
    {
     "name": "stdout",
     "output_type": "stream",
     "text": [
      "The engine of the car has started!\n"
     ]
    }
   ],
   "source": [
    "my_car = Car(\"Toyota\", \"Corola\")\n",
    "\n",
    "my_car.start_engine()"
   ]
  },
  {
   "cell_type": "code",
   "execution_count": 24,
   "id": "b8b57b2e-3190-45f5-90a6-e93ad939189d",
   "metadata": {},
   "outputs": [],
   "source": [
    "# Class Person\n",
    "class Person:\n",
    "    def __init__(self, name, age):\n",
    "        self.name = name\n",
    "        self.age = age\n",
    "\n",
    "    def speak(self):\n",
    "        print(f\"Hey my name is {self.name}. And my age is {self.age}\")\n",
    "\n",
    "        "
   ]
  },
  {
   "cell_type": "code",
   "execution_count": 26,
   "id": "fa2f842c-b1b2-458c-b38c-f2e3fb55cdf9",
   "metadata": {},
   "outputs": [
    {
     "name": "stdout",
     "output_type": "stream",
     "text": [
      "Hey my name is Yannick. And my age is 25\n"
     ]
    }
   ],
   "source": [
    "person_A = Person(\"Yannick\", 25)\n",
    "person_A.speak()"
   ]
  },
  {
   "cell_type": "code",
   "execution_count": 34,
   "id": "7c3ce036-da3c-42d6-aa1f-32c6531ec7bc",
   "metadata": {},
   "outputs": [],
   "source": [
    "# Class Person\n",
    "class Person:\n",
    "    def __init__(self, name, age, country):\n",
    "        self.name = name\n",
    "        self.age = age\n",
    "        self.country = country\n",
    "\n",
    "    def speak(self):\n",
    "        print(f\"Hey my name is {self.name}. And my age is {self.age}\")\n",
    "\n",
    "    def my_country(self):\n",
    "        print(f\"I'm from {self.country}\")"
   ]
  },
  {
   "cell_type": "code",
   "execution_count": 36,
   "id": "be22a2dc-f132-4260-b8e4-95aeb883ba7e",
   "metadata": {},
   "outputs": [
    {
     "name": "stdout",
     "output_type": "stream",
     "text": [
      "Hey my name is Peter. And my age is 47\n",
      "I'm from Canada\n"
     ]
    }
   ],
   "source": [
    "person_B = Person(\"Peter\", 47, \"Canada\")\n",
    "person_B.speak()\n",
    "person_B.my_country()"
   ]
  },
  {
   "cell_type": "markdown",
   "id": "902bebbe-dba6-48a7-94f2-be6354a22672",
   "metadata": {},
   "source": [
    "# Data Attributes and Class Attributes"
   ]
  },
  {
   "cell_type": "code",
   "execution_count": 51,
   "id": "1cbed6d7-2070-4702-8225-3b6766a8d45c",
   "metadata": {},
   "outputs": [],
   "source": [
    "class Car :\n",
    "    wheels = 4\n",
    "    def __init__(self, brand, model):\n",
    "        self.brand = brand\n",
    "        self.model = model"
   ]
  },
  {
   "cell_type": "code",
   "execution_count": 53,
   "id": "a98986a1-ca83-44c5-aecd-d374a6fade32",
   "metadata": {},
   "outputs": [],
   "source": [
    "car1 = Car(\"Toyota\", \"Corola\")\n",
    "car2 = Car(\"Hyundai\", \"Santro\")"
   ]
  },
  {
   "cell_type": "code",
   "execution_count": 59,
   "id": "223c628c-683e-4dac-a409-7b263296464a",
   "metadata": {},
   "outputs": [
    {
     "data": {
      "text/plain": [
       "4"
      ]
     },
     "execution_count": 59,
     "metadata": {},
     "output_type": "execute_result"
    }
   ],
   "source": [
    "car1.wheels"
   ]
  },
  {
   "cell_type": "code",
   "execution_count": 61,
   "id": "78af9469-fb99-465f-a465-4f9a82014c6c",
   "metadata": {},
   "outputs": [
    {
     "data": {
      "text/plain": [
       "4"
      ]
     },
     "execution_count": 61,
     "metadata": {},
     "output_type": "execute_result"
    }
   ],
   "source": [
    "car2.wheels"
   ]
  },
  {
   "cell_type": "code",
   "execution_count": 63,
   "id": "b62d8c18-b24c-41d0-9b66-c67ec796bfcc",
   "metadata": {},
   "outputs": [
    {
     "data": {
      "text/plain": [
       "'Toyota'"
      ]
     },
     "execution_count": 63,
     "metadata": {},
     "output_type": "execute_result"
    }
   ],
   "source": [
    "car1.brand"
   ]
  },
  {
   "cell_type": "code",
   "execution_count": 65,
   "id": "b36465d3-7f9d-4411-b90b-3b797a90bd2d",
   "metadata": {},
   "outputs": [
    {
     "data": {
      "text/plain": [
       "'Corola'"
      ]
     },
     "execution_count": 65,
     "metadata": {},
     "output_type": "execute_result"
    }
   ],
   "source": [
    "car1.model"
   ]
  },
  {
   "cell_type": "code",
   "execution_count": 73,
   "id": "9d0d6ba9-59b8-450f-a950-5a8e84d2e209",
   "metadata": {},
   "outputs": [
    {
     "name": "stdout",
     "output_type": "stream",
     "text": [
      "Hyundai\n",
      "Santro\n",
      "4\n"
     ]
    }
   ],
   "source": [
    "print(car2.brand)\n",
    "print(car2.model)\n",
    "print(car2.wheels)"
   ]
  },
  {
   "cell_type": "markdown",
   "id": "76ea27a9-b702-4ba8-ae72-75bb79252efb",
   "metadata": {},
   "source": [
    "# Question 1: Basic ATM Class"
   ]
  },
  {
   "cell_type": "markdown",
   "id": "f98434c8-54db-4b8d-909d-025214bbe1ee",
   "metadata": {},
   "source": [
    "### Create a class for ATM Machine . The class should be able to do following \n",
    "\n",
    "\n",
    "#### balance - store balance \n",
    "\n",
    "#### Methods :\n",
    "    \n",
    "##### 1. withrow an amount ( on when sufficient funds are there)\n",
    "##### 2. deposit and amount \n",
    "##### 3. check_balance "
   ]
  },
  {
   "cell_type": "code",
   "execution_count": 113,
   "id": "737b9721-df26-49e2-a4a7-c00153ae4172",
   "metadata": {},
   "outputs": [],
   "source": [
    "class ATM:\n",
    "    def __init__(self, balance):\n",
    "        self.balance = balance\n",
    "\n",
    "    def withdraw(self, amount):\n",
    "        if amount > self.balance:\n",
    "            print(f\"Insufficient balance. Your balance is {self.balance}. Please try a smaller amount\")\n",
    "        else:\n",
    "            self.balance -= amount\n",
    "            print(f\"The requested amount of {amount} has been withdrawn. Your new balance is {self.balance}\")\n",
    "\n",
    "    def deposit(self, amount):\n",
    "        self.balance += amount\n",
    "        print(f\"The amount of {amount} has been deposited. Your new balance is {self.balance}\")\n",
    "\n",
    "\n",
    "    def check_balance(self):\n",
    "        print(f\"Balance is: {self.balance}\")\n"
   ]
  },
  {
   "cell_type": "code",
   "execution_count": 115,
   "id": "4de9e292-a225-43fa-9d20-4dedbf145587",
   "metadata": {},
   "outputs": [],
   "source": [
    "atm = ATM(balance = 1500)"
   ]
  },
  {
   "cell_type": "code",
   "execution_count": 117,
   "id": "47763eeb-383f-41c0-bb23-f246c59168bf",
   "metadata": {},
   "outputs": [
    {
     "name": "stdout",
     "output_type": "stream",
     "text": [
      "Balance is: 1500\n"
     ]
    }
   ],
   "source": [
    "atm.check_balance()"
   ]
  },
  {
   "cell_type": "code",
   "execution_count": 119,
   "id": "f8fd85ec-2101-4520-8cb6-e27c1ba2bbdc",
   "metadata": {},
   "outputs": [
    {
     "name": "stdout",
     "output_type": "stream",
     "text": [
      "Insufficient balance. Your balance is 1500. Please try a smaller amount\n"
     ]
    }
   ],
   "source": [
    "atm.withdraw(2000)"
   ]
  },
  {
   "cell_type": "code",
   "execution_count": 121,
   "id": "c2b8c01f-7fa7-4e7f-8563-34a7aba9f3eb",
   "metadata": {},
   "outputs": [
    {
     "name": "stdout",
     "output_type": "stream",
     "text": [
      "The requested amount of 500 has been withdrawn. Your new balance is 1000\n"
     ]
    }
   ],
   "source": [
    "atm.withdraw(500)"
   ]
  },
  {
   "cell_type": "code",
   "execution_count": 123,
   "id": "95301a33-8237-4845-8e43-cea02e415483",
   "metadata": {},
   "outputs": [
    {
     "name": "stdout",
     "output_type": "stream",
     "text": [
      "Balance is: 1000\n"
     ]
    }
   ],
   "source": [
    "atm.check_balance()"
   ]
  },
  {
   "cell_type": "code",
   "execution_count": 125,
   "id": "f4395239-55b4-42fc-86ff-4c06306c2ac9",
   "metadata": {},
   "outputs": [
    {
     "name": "stdout",
     "output_type": "stream",
     "text": [
      "The amount of 9000 has been deposited. Your new balance is 10000\n"
     ]
    }
   ],
   "source": [
    "atm.deposit(9000)"
   ]
  },
  {
   "cell_type": "code",
   "execution_count": 127,
   "id": "c290b034-2518-4b60-803a-c78fa1d8fbe6",
   "metadata": {},
   "outputs": [
    {
     "name": "stdout",
     "output_type": "stream",
     "text": [
      "Balance is: 10000\n"
     ]
    }
   ],
   "source": [
    "atm.check_balance()"
   ]
  },
  {
   "cell_type": "markdown",
   "id": "247cc6b9-9179-40dd-b059-d66561055984",
   "metadata": {},
   "source": [
    "# Inheritence "
   ]
  },
  {
   "cell_type": "markdown",
   "id": "b07a66ac-f9e1-4ed3-a480-f722d6dd3977",
   "metadata": {},
   "source": [
    "### Ingeritence is an Object Oriented Programming concenpt . The child class can inheric (derive) some properties from its parent class . The idea behind this is to reuse the codes on new classes. "
   ]
  },
  {
   "cell_type": "markdown",
   "id": "eb45a356-e809-45dc-b666-32a16385c023",
   "metadata": {},
   "source": [
    "# Single Inheritence "
   ]
  },
  {
   "cell_type": "markdown",
   "id": "84397d1b-19b9-4ba6-b353-80542fc51255",
   "metadata": {},
   "source": [
    "### Here child inherits only from one class ."
   ]
  },
  {
   "cell_type": "code",
   "execution_count": 141,
   "id": "c4438781-c85f-45e9-a98d-6083019cda90",
   "metadata": {},
   "outputs": [],
   "source": [
    "# Parent Class\n",
    "class Animal:\n",
    "    def speak(self):\n",
    "        print(\"Animal is making a sound\")\n",
    "\n",
    "# Child Class\n",
    "class Dog(Animal):\n",
    "    def bark(self):\n",
    "        print(\"Dog is barking\")"
   ]
  },
  {
   "cell_type": "code",
   "execution_count": 143,
   "id": "f56b3d40-7a5b-4a0a-be6e-481737fbe53d",
   "metadata": {},
   "outputs": [],
   "source": [
    "dog = Dog()"
   ]
  },
  {
   "cell_type": "code",
   "execution_count": 145,
   "id": "b1ac1384-32a3-4f9f-910e-f158fb8660fe",
   "metadata": {},
   "outputs": [
    {
     "name": "stdout",
     "output_type": "stream",
     "text": [
      "Dog is barking\n"
     ]
    }
   ],
   "source": [
    "dog.bark()"
   ]
  },
  {
   "cell_type": "code",
   "execution_count": 148,
   "id": "a41e6fd4-00ce-4cc7-8671-ce6e72bd8d18",
   "metadata": {},
   "outputs": [
    {
     "name": "stdout",
     "output_type": "stream",
     "text": [
      "Animal is making a sound\n"
     ]
    }
   ],
   "source": [
    "dog.speak()"
   ]
  },
  {
   "cell_type": "markdown",
   "id": "cffe5378-c55d-484d-9cff-2ce13186e367",
   "metadata": {},
   "source": [
    "# Multiple Inheritence"
   ]
  },
  {
   "cell_type": "markdown",
   "id": "5fc8dcc9-c4b4-4f98-b747-3acd97fcdba0",
   "metadata": {},
   "source": [
    "### Here child inherits only from multiple class"
   ]
  },
  {
   "cell_type": "code",
   "execution_count": 153,
   "id": "69775dc6-3fe9-4375-96ae-65c7f1b5d711",
   "metadata": {},
   "outputs": [],
   "source": [
    "# 1st Parent Class\n",
    "class Father:\n",
    "    def looks(self):\n",
    "        print(\"Looks from father\")\n",
    "\n",
    "# 2de Parent Class\n",
    "class Mother:\n",
    "    def intelligence(self):\n",
    "        print(\"Mother's intelligence\")\n",
    "\n",
    "# Child Class\n",
    "class Kid(Father, Mother):\n",
    "    pass"
   ]
  },
  {
   "cell_type": "code",
   "execution_count": 157,
   "id": "07ed4c0a-ebbb-4638-b77b-9dcc94a09c48",
   "metadata": {},
   "outputs": [],
   "source": [
    "kid = Kid()"
   ]
  },
  {
   "cell_type": "code",
   "execution_count": 161,
   "id": "355bb7d2-11e2-4b5d-9121-63181877535a",
   "metadata": {},
   "outputs": [
    {
     "name": "stdout",
     "output_type": "stream",
     "text": [
      "Looks from father\n"
     ]
    }
   ],
   "source": [
    "kid.looks()"
   ]
  },
  {
   "cell_type": "code",
   "execution_count": 163,
   "id": "ab2ffc7f-2448-425c-aef5-3acf648414f7",
   "metadata": {},
   "outputs": [
    {
     "name": "stdout",
     "output_type": "stream",
     "text": [
      "Mother's intelligence\n"
     ]
    }
   ],
   "source": [
    "kid.intelligence()"
   ]
  },
  {
   "cell_type": "markdown",
   "id": "3f5d1f2c-8065-4989-b7c6-51743fcd814d",
   "metadata": {},
   "source": [
    "# Multi-Level Inheritence "
   ]
  },
  {
   "cell_type": "code",
   "execution_count": 180,
   "id": "bd35be58-4d69-4ea1-ae50-fc3ba4f0041e",
   "metadata": {},
   "outputs": [],
   "source": [
    "# 1st Parent Class\n",
    "class Animal:\n",
    "    def speak(self):\n",
    "        print(\"The animal speak\")\n",
    "\n",
    "# 1st child Class\n",
    "class Dog(Animal):\n",
    "    def bark(self):\n",
    "        print(\"Dog barks\")\n",
    "\n",
    "# 1st grandChild Class\n",
    "class Puppy(Dog):\n",
    "    def play(self):\n",
    "        print(\"Puppy plays\")\n"
   ]
  },
  {
   "cell_type": "code",
   "execution_count": 182,
   "id": "b86815ac-c8b1-43eb-bb10-ca041c8276ef",
   "metadata": {},
   "outputs": [],
   "source": [
    "puppy = Puppy()"
   ]
  },
  {
   "cell_type": "code",
   "execution_count": 184,
   "id": "04d06c41-2b08-48fe-a419-133d4f40796b",
   "metadata": {},
   "outputs": [
    {
     "name": "stdout",
     "output_type": "stream",
     "text": [
      "Puppy plays\n"
     ]
    }
   ],
   "source": [
    "puppy.play()"
   ]
  },
  {
   "cell_type": "code",
   "execution_count": 186,
   "id": "5337afc7-b349-4ba3-98c0-28f549d57991",
   "metadata": {},
   "outputs": [
    {
     "name": "stdout",
     "output_type": "stream",
     "text": [
      "Dog barks\n"
     ]
    }
   ],
   "source": [
    "puppy.bark()"
   ]
  },
  {
   "cell_type": "code",
   "execution_count": 188,
   "id": "f4103f76-72e4-4158-ab4e-e6aca1a9666b",
   "metadata": {},
   "outputs": [
    {
     "name": "stdout",
     "output_type": "stream",
     "text": [
      "The animal speak\n"
     ]
    }
   ],
   "source": [
    "puppy.speak()"
   ]
  },
  {
   "cell_type": "markdown",
   "id": "942e3f6f-61bf-4641-9cf0-8cae3f2c5d01",
   "metadata": {},
   "source": [
    "# Heirarchical inheritence"
   ]
  },
  {
   "cell_type": "markdown",
   "id": "15c235c9-f7e2-4894-933f-f99d1fd4789a",
   "metadata": {},
   "source": [
    "### Multiple child classes can inheric from the same parent class."
   ]
  },
  {
   "cell_type": "code",
   "execution_count": 196,
   "id": "ed51455f-5eb6-485f-88b8-aff48849424e",
   "metadata": {},
   "outputs": [],
   "source": [
    "# 1st Parent Class\n",
    "class Animal_Parent:\n",
    "    def speak(self):\n",
    "        print(\"The animal speak\")\n",
    "\n",
    "# 1st child Class\n",
    "class Dog(Animal):\n",
    "    def bark(self):\n",
    "        print(\"Dog barks\")\n",
    "\n",
    "# 2de Child Class\n",
    "class Cat(Animal):\n",
    "    def play(self):\n",
    "        print(\"Cat meows\")"
   ]
  },
  {
   "cell_type": "code",
   "execution_count": 198,
   "id": "103a89ec-2426-42e0-954a-878a76519fbe",
   "metadata": {},
   "outputs": [],
   "source": [
    "cat = Cat()"
   ]
  },
  {
   "cell_type": "code",
   "execution_count": 200,
   "id": "e6b366b1-0f46-4dfe-895e-fdad2eae2951",
   "metadata": {},
   "outputs": [
    {
     "name": "stdout",
     "output_type": "stream",
     "text": [
      "Cat meows\n"
     ]
    }
   ],
   "source": [
    "cat.play()"
   ]
  },
  {
   "cell_type": "code",
   "execution_count": 202,
   "id": "c66b011c-79e3-487e-bc50-4aad99935348",
   "metadata": {},
   "outputs": [
    {
     "name": "stdout",
     "output_type": "stream",
     "text": [
      "The animal speak\n"
     ]
    }
   ],
   "source": [
    "cat.speak()"
   ]
  },
  {
   "cell_type": "code",
   "execution_count": 204,
   "id": "1058edfb-e6f7-4dee-9c61-f64a82fb1325",
   "metadata": {},
   "outputs": [],
   "source": [
    "dog = Dog()"
   ]
  },
  {
   "cell_type": "code",
   "execution_count": 206,
   "id": "029829d0-5c3f-45e9-a048-db929f6b8271",
   "metadata": {},
   "outputs": [
    {
     "name": "stdout",
     "output_type": "stream",
     "text": [
      "The animal speak\n"
     ]
    }
   ],
   "source": [
    "dog.speak()"
   ]
  },
  {
   "cell_type": "code",
   "execution_count": 208,
   "id": "e5cb42fa-e991-4a6f-ba29-49bc52d47b92",
   "metadata": {},
   "outputs": [
    {
     "name": "stdout",
     "output_type": "stream",
     "text": [
      "Dog barks\n"
     ]
    }
   ],
   "source": [
    "dog.bark()"
   ]
  },
  {
   "cell_type": "markdown",
   "id": "3022e2a2-00ad-4eb1-9e8d-977a9b70d1fe",
   "metadata": {},
   "source": [
    "# Question 2"
   ]
  },
  {
   "cell_type": "markdown",
   "id": "10b4e5ca-ebc9-435e-99fc-80ae2f733215",
   "metadata": {},
   "source": [
    "Implement a banking system . Here the Saving Acoount inherits properties from class called BankAccount . The BankAccount class has the attributes of acoount holder name and balance . It allows the user to withdraw an amount less than the balance . Also it allows the use to deposit any amount . The Saving bank account has an int rate of 5% . The interet has to be added as apart of balance annually . "
   ]
  },
  {
   "cell_type": "code",
   "execution_count": 226,
   "id": "f45b9966-3a58-49a8-a19f-88b801c576ea",
   "metadata": {},
   "outputs": [],
   "source": [
    "# BankAccount Class\n",
    "class BankAccount:\n",
    "    def __init__(self, name, balance):\n",
    "        self.name = name\n",
    "        self.balance = balance\n",
    "\n",
    "    \n",
    "    def withdraw(self, amount):\n",
    "        if amount > self.balance:\n",
    "            print(f\"Insufficient balance. Your balance is {self.balance}. Please try a smaller amount\")\n",
    "        else:\n",
    "            self.balance -= amount\n",
    "            print(f\"The requested amount of {amount} has been withdrawn. Your new balance is {self.balance}\")\n",
    "\n",
    "    def deposit(self, amount):\n",
    "        self.balance += amount\n",
    "        print(f\"The amount of {amount} has been deposited. Your new balance is {self.balance}\")\n",
    "\n",
    "\n",
    "# SavingBankAccount Class\n",
    "class SavingBankAccount(BankAccount):\n",
    "    interest_rate = 0.05\n",
    "\n",
    "    def add_interest(self):\n",
    "        interest = self.balance * self.interest_rate\n",
    "        self.balance += interest\n",
    "        print(f\"{self.name}, Interest of {interest} has been credited to your account. The available balance is {self.balance}\")\n",
    "        "
   ]
  },
  {
   "cell_type": "code",
   "execution_count": 228,
   "id": "5627eda3-b470-40ed-bd47-30336b6f87bb",
   "metadata": {},
   "outputs": [],
   "source": [
    "saving = SavingBankAccount(\"Yannick\", 2000)"
   ]
  },
  {
   "cell_type": "code",
   "execution_count": 232,
   "id": "b74cead9-b728-4a54-9a81-9e1057fc8f1f",
   "metadata": {},
   "outputs": [
    {
     "name": "stdout",
     "output_type": "stream",
     "text": [
      "The amount of 1000 has been deposited. Your new balance is 3000\n"
     ]
    }
   ],
   "source": [
    "saving.deposit(1000)"
   ]
  },
  {
   "cell_type": "code",
   "execution_count": 234,
   "id": "c979ecb6-898b-402a-ac63-4018bd335bd5",
   "metadata": {},
   "outputs": [
    {
     "name": "stdout",
     "output_type": "stream",
     "text": [
      "Insufficient balance. Your balance is 3000. Please try a smaller amount\n"
     ]
    }
   ],
   "source": [
    "saving.withdraw(5000)"
   ]
  },
  {
   "cell_type": "code",
   "execution_count": 236,
   "id": "dc815264-bda9-47ca-9463-d2ec144de32c",
   "metadata": {},
   "outputs": [
    {
     "name": "stdout",
     "output_type": "stream",
     "text": [
      "The requested amount of 500 has been withdrawn. Your new balance is 2500\n"
     ]
    }
   ],
   "source": [
    "saving.withdraw(500)"
   ]
  },
  {
   "cell_type": "code",
   "execution_count": 238,
   "id": "77a65464-5139-43c5-afc0-a40844cc31e6",
   "metadata": {},
   "outputs": [
    {
     "name": "stdout",
     "output_type": "stream",
     "text": [
      "Yannick, Interest of 125.0 has been credited to your account. The available balance is 2625.0\n"
     ]
    }
   ],
   "source": [
    "saving.add_interest()"
   ]
  },
  {
   "cell_type": "code",
   "execution_count": null,
   "id": "f269aad4-5d2f-4318-9a6e-db1ec322f47e",
   "metadata": {},
   "outputs": [],
   "source": []
  }
 ],
 "metadata": {
  "kernelspec": {
   "display_name": "Python 3 (ipykernel)",
   "language": "python",
   "name": "python3"
  },
  "language_info": {
   "codemirror_mode": {
    "name": "ipython",
    "version": 3
   },
   "file_extension": ".py",
   "mimetype": "text/x-python",
   "name": "python",
   "nbconvert_exporter": "python",
   "pygments_lexer": "ipython3",
   "version": "3.12.4"
  }
 },
 "nbformat": 4,
 "nbformat_minor": 5
}
