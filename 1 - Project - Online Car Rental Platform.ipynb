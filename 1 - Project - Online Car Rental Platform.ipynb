{
 "cells": [
  {
   "cell_type": "markdown",
   "id": "444fc86e-e9dd-44e7-8652-f611db49276e",
   "metadata": {},
   "source": [
    "# Project Title: Online Car Rental Platform"
   ]
  },
  {
   "cell_type": "markdown",
   "id": "3644d8b1-0076-41bc-9486-90c37a35fff0",
   "metadata": {},
   "source": []
  },
  {
   "cell_type": "markdown",
   "id": "2f512bdd-4c90-4eb5-822c-58c69c91e26d",
   "metadata": {},
   "source": [
    "# 1. Create a module (.py file) for car rental and import the built-in module DateTime to handle the rental time and bill."
   ]
  },
  {
   "cell_type": "code",
   "execution_count": 4,
   "id": "32f29d03-2195-4fc5-87df-8c3f38b84030",
   "metadata": {},
   "outputs": [],
   "source": [
    "# Create the file car_rental_list.py\n",
    "#car_rental_modul = open(\"car_rental_list.py\", \"w\")\n",
    "#car_rental_modul.close()"
   ]
  },
  {
   "cell_type": "code",
   "execution_count": 5,
   "id": "ba746bb8-337e-4143-90ac-1e0b4f71334a",
   "metadata": {},
   "outputs": [],
   "source": [
    "# Reading the file cal_date_time.py\n",
    "#file = open(\"cal_date_time.py\", \"r\")\n",
    "#content = file.read()\n",
    "#file.close()\n",
    "\n",
    "# Print the file's content\n",
    "#print(content)"
   ]
  },
  {
   "cell_type": "code",
   "execution_count": 6,
   "id": "dcaf2612-4c00-4b82-b6be-3ba6ebaa2ac8",
   "metadata": {},
   "outputs": [],
   "source": [
    "import cal_date_time"
   ]
  },
  {
   "cell_type": "markdown",
   "id": "6bb4d0cc-0004-4ae1-9b9e-9444ac3cc481",
   "metadata": {},
   "source": []
  },
  {
   "cell_type": "markdown",
   "id": "54e8773a-ae84-45bc-a7fc-f6a90088cbef",
   "metadata": {},
   "source": [
    "# 2. Create a class for renting the cars and define a constructor in it."
   ]
  },
  {
   "cell_type": "code",
   "execution_count": 9,
   "id": "eb32d848-42f2-4181-8b78-ae7267b0e38f",
   "metadata": {},
   "outputs": [],
   "source": [
    "# 2. Create a class for renting the cars and define a constructor in it.\n",
    "class Car:\n",
    "    \n",
    "    def __init__(self, car_type, rental_type):\n",
    "        self.name = car_type\n",
    "        self.rental_type = rental_type\n",
    "\n",
    "    #car_catalogue = {\"Hyundai\": 10, \"Toyota\": 20, \"Kia\": 30, \"Honda\": 40, \"Ford\": 50, \"Chevrolet\": 60, \"Cadillac\": 70, \"Audi\": 80}\n",
    "\n",
    "    # Hourly Rent\n",
    "    def hourly_rental(self):\n",
    "        if rental_type == \"hour\" or rental_type == \"Hour\":\n",
    "            print(\"The car model you haven chosen is a\", car_type.upper(), f\"and your are renting for {rental_time} {rental_type}(s)\")\n",
    "\n",
    "    # Daily Rent\n",
    "    def daily_rental(self):\n",
    "        if rental_type == \"day\" or rental_type == \"Day\":\n",
    "            print(\"The car model you haven chosen is a\", car_type.upper(), f\"and your are renting for {rental_time} {rental_type}(s)\")\n",
    "\n",
    "    # Hourly Rent\n",
    "    def weekly_rental(self):\n",
    "        if rental_type == \"week\" or rental_type == \"Week\":\n",
    "            print(\"The car model you haven chosen is a\", car_type.upper(), f\"and your are renting for {rental_time} {rental_type}(s)\")"
   ]
  },
  {
   "cell_type": "code",
   "execution_count": null,
   "id": "adc9bab9-28c6-42c7-8cb2-7908ee38b670",
   "metadata": {},
   "outputs": [],
   "source": []
  },
  {
   "cell_type": "markdown",
   "id": "7e376ca1-92a2-4b1c-8e16-9073baed7e02",
   "metadata": {},
   "source": [
    "# 3. Define a method for displaying the available cars. Also, define methods for renting cars on an hourly, daily and weekly basis, respectively."
   ]
  },
  {
   "cell_type": "markdown",
   "id": "e4f6f69f-5b43-424e-97a8-a4e93f666d1c",
   "metadata": {},
   "source": [
    "### Display available cars"
   ]
  },
  {
   "cell_type": "code",
   "execution_count": 12,
   "id": "6af64a04-9ccf-478d-a560-734f920d29fc",
   "metadata": {},
   "outputs": [],
   "source": [
    "# Display available cars\n",
    "def car_catalogue():\n",
    "    # Create the file car_rental_list.py\n",
    "    car_rental_modul = open(\"car_rental_list.py\", \"w\")\n",
    "    \n",
    "    # Write inside the file \n",
    "    car_rental_modul.write(\"======================\\n\")\n",
    "    car_rental_modul.write(\"= Welcome To YemoCar =\\n\")\n",
    "    car_rental_modul.write(\"======================\\n\\n\")\n",
    "    car_rental_modul.write(\"Please make your chose to our rental car catalogue:\\n\\n\")\n",
    "    \n",
    "    # Catalogue list\n",
    "    car_catalogue = [\"- Hyundai => $10/h | $15/day | $20/week\\n\", \"- Toyota => $20/h | $25/day | $30/week\\n\", \n",
    "                     \"- Kia => $30/h | $35/day | $40/week\\n\", \"- Honda => $40/h | $45/day | $50/week\\n\", \n",
    "                     \"- Ford => $50/h | $55/day | $60/week\\n\", \"- Chevrolet => $60/h | $65/day | $70/week\\n\", \n",
    "                     \"- Cadillac => $70/h | $75/day | $80/week\\n\", \"- Audi => $80/h | $85/day | $90/week\\n\"]\n",
    "    \n",
    "    # Writing line-by-line inside the file\n",
    "    car_rental_modul.writelines(car_catalogue)\n",
    "    \n",
    "    car_rental_modul.close()\n",
    "\n",
    "    # Reading the file car_rental_list.py\n",
    "    file = open(\"car_rental_list.py\", \"r\")\n",
    "    content = file.read()\n",
    "    file.close()\n",
    "    \n",
    "    # Print the file's content\n",
    "    print(content)"
   ]
  },
  {
   "cell_type": "code",
   "execution_count": 13,
   "id": "6352b0f4-60cd-4cad-bd4d-ab34eb6f83b7",
   "metadata": {},
   "outputs": [
    {
     "name": "stdout",
     "output_type": "stream",
     "text": [
      "======================\n",
      "= Welcome To YemoCar =\n",
      "======================\n",
      "\n",
      "Please make your chose to our rental car catalogue:\n",
      "\n",
      "- Hyundai => $10/h | $15/day | $20/week\n",
      "- Toyota => $20/h | $25/day | $30/week\n",
      "- Kia => $30/h | $35/day | $40/week\n",
      "- Honda => $40/h | $45/day | $50/week\n",
      "- Ford => $50/h | $55/day | $60/week\n",
      "- Chevrolet => $60/h | $65/day | $70/week\n",
      "- Cadillac => $70/h | $75/day | $80/week\n",
      "- Audi => $80/h | $85/day | $90/week\n",
      "\n"
     ]
    }
   ],
   "source": [
    "car_catalogue()"
   ]
  },
  {
   "cell_type": "markdown",
   "id": "9619d0a0-e004-41f3-9f00-60c6038d658f",
   "metadata": {},
   "source": [
    "### Get client input"
   ]
  },
  {
   "cell_type": "code",
   "execution_count": 15,
   "id": "9e933c24-85a2-408b-8d0b-285a81ac9343",
   "metadata": {},
   "outputs": [
    {
     "name": "stdin",
     "output_type": "stream",
     "text": [
      "Which car do you want rent: kia\n"
     ]
    },
    {
     "name": "stdout",
     "output_type": "stream",
     "text": [
      "==> The car you choose is:  Kia\n"
     ]
    },
    {
     "name": "stdin",
     "output_type": "stream",
     "text": [
      "How do you want to rent this car, by Hour, Day or Week? : day\n"
     ]
    },
    {
     "name": "stdout",
     "output_type": "stream",
     "text": [
      "==> The rental type is:  Day\n"
     ]
    },
    {
     "name": "stdin",
     "output_type": "stream",
     "text": [
      "How long do you want to rent this car? :  3\n"
     ]
    },
    {
     "name": "stdout",
     "output_type": "stream",
     "text": [
      "==> You would like to rent the car for 3 day(s)\n"
     ]
    }
   ],
   "source": [
    "# Get client car choose and Capitalizing the input\n",
    "car_type = input(\"Which car do you want rent:\")\n",
    "print(\"==> The car you choose is: \", car_type.capitalize())\n",
    "\n",
    "# Get client rental type and Capitalizing the input\n",
    "rental_type = input(\"How do you want to rent this car, by Hour, Day or Week? :\")\n",
    "print(\"==> The rental type is: \", rental_type.capitalize())\n",
    "\n",
    "# Get the total number of hour, days or week the client wants rent the car\n",
    "rental_time = int(input(\"How long do you want to rent this car? : \"))\n",
    "print(\"==> You would like to rent the car for\", rental_time, f\"{rental_type}(s)\")"
   ]
  },
  {
   "cell_type": "code",
   "execution_count": 16,
   "id": "8934579f-0ddd-460a-984c-cb80a83414b4",
   "metadata": {},
   "outputs": [
    {
     "name": "stdout",
     "output_type": "stream",
     "text": [
      "The car model you haven chosen is a KIA and your are renting for 3 day(s)\n"
     ]
    }
   ],
   "source": [
    "# Create an object of the class Car\n",
    "my_rental_car = Car(car_type, rental_type)\n",
    "\n",
    "if rental_type == \"hour\" or rental_type == \"Hour\":\n",
    "    my_rental_car.hourly_rental()\n",
    "    \n",
    "elif rental_type == \"day\" or rental_type == \"Day\": \n",
    "    my_rental_car.daily_rental()\n",
    "\n",
    "elif rental_type == \"day\" or rental_type == \"Day\":\n",
    "    my_rental_car.weekly_rental()"
   ]
  },
  {
   "cell_type": "code",
   "execution_count": null,
   "id": "9e808b98-7c1f-4c4c-96dc-24f747741c87",
   "metadata": {},
   "outputs": [],
   "source": []
  },
  {
   "cell_type": "markdown",
   "id": "6b2393c6-0c79-47db-ac4e-d34ae89176e4",
   "metadata": {},
   "source": [
    "### Methods for renting cars on an hourly, daily and weekly basis, respectively."
   ]
  },
  {
   "cell_type": "code",
   "execution_count": 18,
   "id": "eb7e17e5-5bcf-45f5-8eb8-7200d3f81d12",
   "metadata": {},
   "outputs": [
    {
     "name": "stdout",
     "output_type": "stream",
     "text": [
      "You are renting the car model KIA for 3 day(s)\n"
     ]
    }
   ],
   "source": [
    "import cal_date_time\n",
    "\n",
    "total_rental_price = 0\n",
    "\n",
    "def car_rental(rental_type):\n",
    "    \n",
    "    if rental_type == \"hour\" or rental_type == \"Hour\":\n",
    "        #total_rental_price = cal_date_time.hourly_rental(rental_time)\n",
    "        total_rental_price = rental_time * 100\n",
    "        #print(f\"Your total bill for renting the car model {car_type.upper()} is: ${total_rental_price}\")\n",
    "        print(f\"You are renting the car model {car_type.upper()} for {rental_time} {rental_type}(s)\")\n",
    "        \n",
    "\n",
    "    elif rental_type == \"day\" or rental_type == \"Day\":\n",
    "        #total_rental_price =  cal_date_time.daily_rental(rental_time)\n",
    "        total_rental_price = rental_time * 90\n",
    "        #print(f\"Your total bill for renting the car model {car_type.upper()} is: ${total_rental_price}\")\n",
    "        print(f\"You are renting the car model {car_type.upper()} for {rental_time} {rental_type}(s)\")\n",
    "        \n",
    "        \n",
    "    elif rental_type == \"week\" or rental_type == \"Week\":\n",
    "        #total_rental_price = cal_date_time.week_rental(rental_time)\n",
    "        total_rental_price = rental_time * 80\n",
    "        #print(f\"Your total bill for renting the car model {car_type.upper()} is: ${total_rental_price}\")\n",
    "        print(f\"You are renting the car model {car_type.upper()} for {rental_time} {rental_type}(s)\")\n",
    "\n",
    "\n",
    "# Calling the function\n",
    "car_rental(f\"{rental_type}\")"
   ]
  },
  {
   "cell_type": "markdown",
   "id": "4b450afc-8fac-4083-bbd1-a5425d996e2e",
   "metadata": {},
   "source": [
    "# 4.Inside these methods, make sure that the number of requested cars is positive and lesser than the total available cars."
   ]
  },
  {
   "cell_type": "code",
   "execution_count": 20,
   "id": "83add426-d367-49d6-94c2-c5b82a314bb2",
   "metadata": {},
   "outputs": [
    {
     "name": "stdin",
     "output_type": "stream",
     "text": [
      "How many car do you want to rent? 1\n"
     ]
    },
    {
     "name": "stdout",
     "output_type": "stream",
     "text": [
      "1: Toyota\n",
      "2: Kia\n",
      "3: Honda\n",
      "4: Ford\n",
      "5: Chevrolet\n",
      "6: Cadillac\n",
      "7: Audi\n",
      "=======================\n",
      "\n",
      "The car model KIA has been removed from the catalogue. It has rented by a client\n"
     ]
    },
    {
     "data": {
      "text/plain": [
       "['Hyundai', 'Toyota', 'Honda', 'Ford', 'Chevrolet', 'Cadillac', 'Audi']"
      ]
     },
     "execution_count": 20,
     "metadata": {},
     "output_type": "execute_result"
    }
   ],
   "source": [
    "car_catalogue = [\"Hyundai\", \"Toyota\", \"Kia\", \"Honda\", \"Ford\", \"Chevrolet\", \"Cadillac\", \"Audi\"]\n",
    "\n",
    "def car_rental(rental_type):\n",
    "\n",
    "    #total_rental_price = 0\n",
    "    \n",
    "    total_car = int(input(\"How many car do you want to rent?\"))\n",
    "\n",
    "    while total_car <= (len(car_catalogue) - 1):\n",
    "        \n",
    "        if total_car >= 1 and total_car <= 7: \n",
    "            \n",
    "            if rental_type == \"hour\" or rental_type == \"Hour\":\n",
    "                #total_rental_price = cal_date_time.hourly_rental(rental_time)\n",
    "                total_rental_price = rental_time * 100\n",
    "                #print(f\"Your total bill for renting the car model {car_type.upper()} is: ${total_rental_price}\")\n",
    "                print(f\"{total_car}: {car_catalogue[total_car]}\")\n",
    "                total_car += 1\n",
    "        \n",
    "            elif rental_type == \"day\" or rental_type == \"Day\":\n",
    "                #total_rental_price =  cal_date_time.daily_rental(rental_time)\n",
    "                total_rental_price = rental_time * 90\n",
    "                #print(f\"Your total bill for renting the car model {car_type.upper()} is: ${total_rental_price}\")\n",
    "                print(f\"{total_car}: {car_catalogue[total_car]}\")\n",
    "                total_car += 1\n",
    "                \n",
    "            elif rental_type == \"week\" or rental_type == \"Week\":\n",
    "                #total_rental_price = cal_date_time.week_rental(rental_time)\n",
    "                total_rental_price = rental_time * 80\n",
    "                #print(f\"Your total bill for renting the car model {car_type.upper()} is: ${total_rental_price}\")\n",
    "                print(f\"{total_car}: {car_catalogue[total_car]}\")\n",
    "                total_car += 1\n",
    "        else:\n",
    "            print(f\"We only have {len(car_catalogue)} cars available \")\n",
    "\n",
    "\n",
    "\n",
    "\n",
    "# Calling the function\n",
    "car_rental(f\"{rental_type}\")\n",
    "\n",
    "print(\"=======================\\n\")\n",
    "car_catalogue.remove(f\"{car_type.capitalize()}\")\n",
    "print(f\"The car model {car_type.upper()} has been removed from the catalogue. It has rented by a client\")\n",
    "car_catalogue"
   ]
  },
  {
   "cell_type": "code",
   "execution_count": null,
   "id": "1f257048-16e2-46c7-9f1e-e64f9d3e929e",
   "metadata": {},
   "outputs": [],
   "source": [
    "        "
   ]
  },
  {
   "cell_type": "markdown",
   "id": "becb223a-dd14-4f43-9382-3feac0af62bc",
   "metadata": {},
   "source": [
    "# 5.Store the time of renting a car in a variable, which can later be used in the bill while returning the car. "
   ]
  },
  {
   "cell_type": "code",
   "execution_count": 22,
   "id": "d822a1e7-1814-4d5b-a740-556fb57b8ce1",
   "metadata": {},
   "outputs": [
    {
     "name": "stdout",
     "output_type": "stream",
     "text": [
      "You are renting the car model Kia for 3 day(s)\n"
     ]
    }
   ],
   "source": [
    "# Car model\n",
    "car_model = car_type.capitalize()\n",
    "\n",
    "# Number of hour or day or week\n",
    "number_of_time = rental_time\n",
    "\n",
    "# Renting type: Hourly, Daily and Weekly\n",
    "car_renting_mode = rental_type\n",
    "\n",
    "\n",
    "print(f\"You are renting the car model {car_model} for {number_of_time} {car_renting_mode}(s)\")"
   ]
  },
  {
   "cell_type": "code",
   "execution_count": null,
   "id": "82df278b-ffd4-4476-b75e-8fda20fc401b",
   "metadata": {},
   "outputs": [],
   "source": []
  },
  {
   "cell_type": "markdown",
   "id": "9e839fcf-e975-4aee-94c0-8a05aba5115b",
   "metadata": {},
   "source": [
    "# 6.Define a method to return the cars using rental time, rental mode (hourly, daily, or weekly), and the number of cars rented."
   ]
  },
  {
   "cell_type": "code",
   "execution_count": 24,
   "id": "ab515455-dc87-4965-a8ca-efe3c2337ed1",
   "metadata": {},
   "outputs": [
    {
     "name": "stdout",
     "output_type": "stream",
     "text": [
      "Welcome to the car return\n",
      "==========================\n",
      "You rent this car for 3 day(s).\n",
      "Thank you for return the car. Please waiting a moment for your bill...\n"
     ]
    }
   ],
   "source": [
    "print(\"Welcome to the car return\")\n",
    "print(\"==========================\")\n",
    "\n",
    "\n",
    "#car_time_return = int(input(\"How long have you rented this car? \"))\n",
    "car_time_return = rental_time\n",
    "\n",
    "def car_return(car_time_return):\n",
    "    if car_time_return >= 1:\n",
    "        if car_renting_mode == \"hour\" or car_renting_mode == \"Hour\":\n",
    "            print(f\"You rent this car for {car_time_return} {car_renting_mode}(s).\")\n",
    "            print(\"Thank you for return the car. Please waiting a moment for your bill...\")\n",
    "\n",
    "        elif car_renting_mode == \"day\" or car_renting_mode == \"Day\":\n",
    "            print(f\"You rent this car for {car_time_return} {car_renting_mode}(s).\")\n",
    "            print(\"Thank you for return the car. Please waiting a moment for your bill...\")\n",
    "            \n",
    "        elif car_renting_mode == \"week\" or car_renting_mode == \"Week\":\n",
    "            print(f\"You rent this car for {car_time_return} {car_renting_mode}(s).\")\n",
    "            print(\"Thank you for return the car. Please waiting a moment for your bill...\")\n",
    "            \n",
    "\n",
    "# Calling the function\n",
    "car_return(car_time_return)"
   ]
  },
  {
   "cell_type": "code",
   "execution_count": null,
   "id": "8b6547aa-39f2-4a33-9bd8-259e7dc624ef",
   "metadata": {},
   "outputs": [],
   "source": []
  },
  {
   "cell_type": "markdown",
   "id": "f89edac4-3754-4883-b940-5b20b7e1f272",
   "metadata": {},
   "source": [
    "# 7.Inside the return method; update the inventory stock, calculate the rental period, and generate the final bill.\n"
   ]
  },
  {
   "cell_type": "code",
   "execution_count": 26,
   "id": "56ac2abe-8cbf-4d49-8ad5-2712be196c68",
   "metadata": {},
   "outputs": [
    {
     "name": "stdout",
     "output_type": "stream",
     "text": [
      "Welcome to the car return\n",
      "==========================\n"
     ]
    },
    {
     "name": "stdin",
     "output_type": "stream",
     "text": [
      "How many car did you rent? 1\n"
     ]
    },
    {
     "name": "stdout",
     "output_type": "stream",
     "text": [
      "You rent this car for 3 day(s).\n",
      "Your bill is $270. Thank you.\n",
      "=======================\n",
      "\n",
      "The car model KIA has been removed from the catalogue. It has rented by a client\n"
     ]
    },
    {
     "data": {
      "text/plain": [
       "['Hyundai', 'Toyota', 'Honda', 'Ford', 'Chevrolet', 'Cadillac', 'Audi', 'Kia']"
      ]
     },
     "execution_count": 26,
     "metadata": {},
     "output_type": "execute_result"
    }
   ],
   "source": [
    "print(\"Welcome to the car return\")\n",
    "print(\"==========================\")\n",
    "\n",
    "total_car = int(input(\"How many car did you rent?\"))\n",
    "\n",
    "def car_return(car_time_return):    \n",
    "    if car_time_return >= 1:\n",
    "        if car_renting_mode == \"hour\" or car_renting_mode == \"Hour\":\n",
    "            print(f\"You rent this car for {car_time_return} {car_renting_mode}(s).\")\n",
    "            total_rental_bill = car_time_return * 100 * total_car\n",
    "            print(f\"Your bill is ${total_rental_bill}. Thank you.\")\n",
    "\n",
    "        elif car_renting_mode == \"day\" or car_renting_mode == \"Day\":\n",
    "            print(f\"You rent this car for {car_time_return} {car_renting_mode}(s).\")\n",
    "            total_rental_bill = car_time_return * 90 * total_car\n",
    "            print(f\"Your bill is ${total_rental_bill}. Thank you.\")\n",
    "            \n",
    "        elif car_renting_mode == \"week\" or car_renting_mode == \"Week\":\n",
    "            print(f\"You rent this car for {car_time_return} {car_renting_mode}(s).\")\n",
    "            total_rental_bill = car_time_return * 80 * total_car\n",
    "            print(f\"Your bill is ${total_rental_bill}. Thank you.\")\n",
    "            \n",
    "\n",
    "# Calling the function\n",
    "car_return(car_time_return)\n",
    "print(\"=======================\\n\")\n",
    "\n",
    "car_catalogue.append(f\"{car_type.capitalize()}\")\n",
    "print(f\"The car model {car_type.upper()} has been removed from the catalogue. It has rented by a client\")\n",
    "car_catalogue"
   ]
  },
  {
   "cell_type": "code",
   "execution_count": null,
   "id": "c5ece284-2fd2-4948-b4cc-52c2b7ec7474",
   "metadata": {},
   "outputs": [],
   "source": []
  },
  {
   "cell_type": "code",
   "execution_count": null,
   "id": "488c09d7-2663-43a1-a2bd-ae9203d48138",
   "metadata": {},
   "outputs": [],
   "source": []
  },
  {
   "cell_type": "markdown",
   "id": "4caaa125-ae56-4b36-af80-0e9d812d76de",
   "metadata": {},
   "source": [
    "# Test"
   ]
  }
 ],
 "metadata": {
  "kernelspec": {
   "display_name": "Python 3 (ipykernel)",
   "language": "python",
   "name": "python3"
  },
  "language_info": {
   "codemirror_mode": {
    "name": "ipython",
    "version": 3
   },
   "file_extension": ".py",
   "mimetype": "text/x-python",
   "name": "python",
   "nbconvert_exporter": "python",
   "pygments_lexer": "ipython3",
   "version": "3.12.4"
  }
 },
 "nbformat": 4,
 "nbformat_minor": 5
}
